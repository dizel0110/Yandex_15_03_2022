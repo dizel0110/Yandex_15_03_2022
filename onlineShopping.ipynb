{
  "cells": [
    {
      "cell_type": "code",
      "source": [
        "from google.colab import drive\n",
        "drive.mount('/content/drive')"
      ],
      "metadata": {
        "colab": {
          "base_uri": "https://localhost:8080/"
        },
        "id": "VDsf_3nLZn4d",
        "outputId": "a77ad4ab-06d9-4140-e77b-71de28716cb4"
      },
      "execution_count": 1,
      "outputs": [
        {
          "output_type": "stream",
          "name": "stdout",
          "text": [
            "Drive already mounted at /content/drive; to attempt to forcibly remount, call drive.mount(\"/content/drive\", force_remount=True).\n"
          ]
        }
      ]
    },
    {
      "cell_type": "markdown",
      "source": [
        "Директория, где располагаются данные"
      ],
      "metadata": {
        "id": "wNshg7D_aEzi"
      }
    },
    {
      "cell_type": "code",
      "source": [
        "data_dir = '/content/drive/My Drive/Colab Notebooks/Yandex/resources/'"
      ],
      "metadata": {
        "id": "FCDIgVWNZ0ZT"
      },
      "execution_count": 2,
      "outputs": []
    },
    {
      "cell_type": "markdown",
      "source": [
        "## Анализ логов продуктового магазина"
      ],
      "metadata": {
        "id": "JLHh1cqOZhir"
      }
    },
    {
      "cell_type": "markdown",
      "metadata": {
        "cellId": "e534da09-d249-4101-af31-2d3a7b264697",
        "id": "hbeLNKG5YSmm"
      },
      "source": [
        "Представьте, что вы работаете аналитиком онлайн-магазина и ваша цель - повысить GMV (суммарную выручку от продажи товаров). Для этого вы хотите провести ряд исследований и придумать какие-то меры для увеличения выручки."
      ]
    },
    {
      "cell_type": "markdown",
      "metadata": {
        "cellId": "fcbf6fbf-2b56-4f42-a4fb-7811fa6a6f80",
        "id": "MGwP-7SWYSmo"
      },
      "source": [
        "В файле <i>orders_with_items.json</i> представлена информация о заказах в онлайн-магазине.\n",
        "```\n",
        "OrderID - ID Заказа,\n",
        "UserID - ID клиента,\n",
        "OrderTime - время заказа,\n",
        "items - список элементов в заказе, каждый элемент описан словарем:\n",
        "    ItemID  - ID продукта, \n",
        "    price - цена единицы товара, \n",
        "    quantity - количество единиц товара в заказе\n",
        "```\n",
        "В файле <i>items_with_categ.csv</i> представлена информация о категории товаров.\n",
        "```\n",
        "ItemID - ID продукта,\n",
        "Category - категория продукта,\n",
        "ParentCategory - более крупная категория продукта\n",
        "```"
      ]
    },
    {
      "cell_type": "markdown",
      "metadata": {
        "cellId": "c309d005-3170-49f9-aaa2-47a572ce9d1a",
        "id": "C2O5_PCYYSmq"
      },
      "source": [
        "1. Для начала поймем, какого числа было сделано больше всего заказов?\n",
        "2. Давайте посмотрим на категории товаров. Найдите топ-3 ParentCategory по GMV (суммарная выручка, которую принесла продажа товаров этой категории)?\n",
        "3. Представьте, что мы хотим запустить какую-то акцию для клиентов или предложить какую-то бонусную программу. Какую акцию было бы целесообразно провести и на каких клиентов её ориентировать? Составьте какой-то список клиентов, которым вы бы предложили участие в акции/программе.\n",
        "4. Представьте, что для повышения GMV мы хотим внедрить на сайте систему рекомендаций и предлагать пользователю какие-то товары по мере сбора корзины. Что бы вы порекомендовали пользователю X?"
      ]
    },
    {
      "cell_type": "markdown",
      "metadata": {
        "cellId": "ob6z27trywsm2yne4s9fvq",
        "id": "DDzztmCcYSmr"
      },
      "source": [
        "Если для решения задачи вам потребуются какие-то сторонние библиотеки, вы можете их установить. __[Документация по установке пакетов](https://cloud.yandex.ru/docs/datasphere/operations/projects/install-dependencies)__"
      ]
    },
    {
      "cell_type": "code",
      "execution_count": 3,
      "metadata": {
        "cellId": "o451uej02dbxv838otnfia",
        "id": "XK_OoWvDYSms"
      },
      "outputs": [],
      "source": [
        "import pandas as pd\n",
        "import numpy as np\n",
        "\n",
        "import matplotlib.pyplot as plt\n",
        "%matplotlib inline"
      ]
    },
    {
      "cell_type": "markdown",
      "metadata": {
        "cellId": "w1tb2s3vcii4woghvg3me",
        "id": "Y6SA2EJFYSmu"
      },
      "source": [
        "1. Для начала поймем, какого числа было сделано больше всего заказов?"
      ]
    },
    {
      "cell_type": "code",
      "execution_count": 4,
      "metadata": {
        "cellId": "o3cwu65zlxueg8ttaffda",
        "colab": {
          "base_uri": "https://localhost:8080/",
          "height": 206
        },
        "id": "rR5jCHqxYSmw",
        "outputId": "825acdbc-cdf2-421f-8bf0-c25426012f14"
      },
      "outputs": [
        {
          "output_type": "execute_result",
          "data": {
            "text/plain": [
              "    OrderID        UserID            OrderTime  \\\n",
              "0  90659865  1.609460e+18  2021-01-01 03:51:42   \n",
              "1  90622054  2.499293e+18  2021-01-01 04:13:13   \n",
              "2  90659952  3.945866e+17  2021-01-01 05:48:53   \n",
              "3  89765281  5.412765e+18  2021-01-01 08:33:41   \n",
              "4  90582308  6.380061e+18  2021-01-01 09:55:35   \n",
              "\n",
              "                                               items  \n",
              "0  [{'ItemID': '413736', 'price': 36.72, 'quantit...  \n",
              "1  [{'ItemID': '961454', 'price': 179.9, 'quantit...  \n",
              "2  [{'ItemID': '306553', 'price': 101.9, 'quantit...  \n",
              "3  [{'ItemID': '979703', 'price': 99.9, 'quantity...  \n",
              "4  [{'ItemID': '303765', 'price': 44.9, 'quantity...  "
            ],
            "text/html": [
              "\n",
              "  <div id=\"df-3cfe0eef-391e-4fcf-b747-2308737f8652\">\n",
              "    <div class=\"colab-df-container\">\n",
              "      <div>\n",
              "<style scoped>\n",
              "    .dataframe tbody tr th:only-of-type {\n",
              "        vertical-align: middle;\n",
              "    }\n",
              "\n",
              "    .dataframe tbody tr th {\n",
              "        vertical-align: top;\n",
              "    }\n",
              "\n",
              "    .dataframe thead th {\n",
              "        text-align: right;\n",
              "    }\n",
              "</style>\n",
              "<table border=\"1\" class=\"dataframe\">\n",
              "  <thead>\n",
              "    <tr style=\"text-align: right;\">\n",
              "      <th></th>\n",
              "      <th>OrderID</th>\n",
              "      <th>UserID</th>\n",
              "      <th>OrderTime</th>\n",
              "      <th>items</th>\n",
              "    </tr>\n",
              "  </thead>\n",
              "  <tbody>\n",
              "    <tr>\n",
              "      <th>0</th>\n",
              "      <td>90659865</td>\n",
              "      <td>1.609460e+18</td>\n",
              "      <td>2021-01-01 03:51:42</td>\n",
              "      <td>[{'ItemID': '413736', 'price': 36.72, 'quantit...</td>\n",
              "    </tr>\n",
              "    <tr>\n",
              "      <th>1</th>\n",
              "      <td>90622054</td>\n",
              "      <td>2.499293e+18</td>\n",
              "      <td>2021-01-01 04:13:13</td>\n",
              "      <td>[{'ItemID': '961454', 'price': 179.9, 'quantit...</td>\n",
              "    </tr>\n",
              "    <tr>\n",
              "      <th>2</th>\n",
              "      <td>90659952</td>\n",
              "      <td>3.945866e+17</td>\n",
              "      <td>2021-01-01 05:48:53</td>\n",
              "      <td>[{'ItemID': '306553', 'price': 101.9, 'quantit...</td>\n",
              "    </tr>\n",
              "    <tr>\n",
              "      <th>3</th>\n",
              "      <td>89765281</td>\n",
              "      <td>5.412765e+18</td>\n",
              "      <td>2021-01-01 08:33:41</td>\n",
              "      <td>[{'ItemID': '979703', 'price': 99.9, 'quantity...</td>\n",
              "    </tr>\n",
              "    <tr>\n",
              "      <th>4</th>\n",
              "      <td>90582308</td>\n",
              "      <td>6.380061e+18</td>\n",
              "      <td>2021-01-01 09:55:35</td>\n",
              "      <td>[{'ItemID': '303765', 'price': 44.9, 'quantity...</td>\n",
              "    </tr>\n",
              "  </tbody>\n",
              "</table>\n",
              "</div>\n",
              "      <button class=\"colab-df-convert\" onclick=\"convertToInteractive('df-3cfe0eef-391e-4fcf-b747-2308737f8652')\"\n",
              "              title=\"Convert this dataframe to an interactive table.\"\n",
              "              style=\"display:none;\">\n",
              "        \n",
              "  <svg xmlns=\"http://www.w3.org/2000/svg\" height=\"24px\"viewBox=\"0 0 24 24\"\n",
              "       width=\"24px\">\n",
              "    <path d=\"M0 0h24v24H0V0z\" fill=\"none\"/>\n",
              "    <path d=\"M18.56 5.44l.94 2.06.94-2.06 2.06-.94-2.06-.94-.94-2.06-.94 2.06-2.06.94zm-11 1L8.5 8.5l.94-2.06 2.06-.94-2.06-.94L8.5 2.5l-.94 2.06-2.06.94zm10 10l.94 2.06.94-2.06 2.06-.94-2.06-.94-.94-2.06-.94 2.06-2.06.94z\"/><path d=\"M17.41 7.96l-1.37-1.37c-.4-.4-.92-.59-1.43-.59-.52 0-1.04.2-1.43.59L10.3 9.45l-7.72 7.72c-.78.78-.78 2.05 0 2.83L4 21.41c.39.39.9.59 1.41.59.51 0 1.02-.2 1.41-.59l7.78-7.78 2.81-2.81c.8-.78.8-2.07 0-2.86zM5.41 20L4 18.59l7.72-7.72 1.47 1.35L5.41 20z\"/>\n",
              "  </svg>\n",
              "      </button>\n",
              "      \n",
              "  <style>\n",
              "    .colab-df-container {\n",
              "      display:flex;\n",
              "      flex-wrap:wrap;\n",
              "      gap: 12px;\n",
              "    }\n",
              "\n",
              "    .colab-df-convert {\n",
              "      background-color: #E8F0FE;\n",
              "      border: none;\n",
              "      border-radius: 50%;\n",
              "      cursor: pointer;\n",
              "      display: none;\n",
              "      fill: #1967D2;\n",
              "      height: 32px;\n",
              "      padding: 0 0 0 0;\n",
              "      width: 32px;\n",
              "    }\n",
              "\n",
              "    .colab-df-convert:hover {\n",
              "      background-color: #E2EBFA;\n",
              "      box-shadow: 0px 1px 2px rgba(60, 64, 67, 0.3), 0px 1px 3px 1px rgba(60, 64, 67, 0.15);\n",
              "      fill: #174EA6;\n",
              "    }\n",
              "\n",
              "    [theme=dark] .colab-df-convert {\n",
              "      background-color: #3B4455;\n",
              "      fill: #D2E3FC;\n",
              "    }\n",
              "\n",
              "    [theme=dark] .colab-df-convert:hover {\n",
              "      background-color: #434B5C;\n",
              "      box-shadow: 0px 1px 3px 1px rgba(0, 0, 0, 0.15);\n",
              "      filter: drop-shadow(0px 1px 2px rgba(0, 0, 0, 0.3));\n",
              "      fill: #FFFFFF;\n",
              "    }\n",
              "  </style>\n",
              "\n",
              "      <script>\n",
              "        const buttonEl =\n",
              "          document.querySelector('#df-3cfe0eef-391e-4fcf-b747-2308737f8652 button.colab-df-convert');\n",
              "        buttonEl.style.display =\n",
              "          google.colab.kernel.accessAllowed ? 'block' : 'none';\n",
              "\n",
              "        async function convertToInteractive(key) {\n",
              "          const element = document.querySelector('#df-3cfe0eef-391e-4fcf-b747-2308737f8652');\n",
              "          const dataTable =\n",
              "            await google.colab.kernel.invokeFunction('convertToInteractive',\n",
              "                                                     [key], {});\n",
              "          if (!dataTable) return;\n",
              "\n",
              "          const docLinkHtml = 'Like what you see? Visit the ' +\n",
              "            '<a target=\"_blank\" href=https://colab.research.google.com/notebooks/data_table.ipynb>data table notebook</a>'\n",
              "            + ' to learn more about interactive tables.';\n",
              "          element.innerHTML = '';\n",
              "          dataTable['output_type'] = 'display_data';\n",
              "          await google.colab.output.renderOutput(dataTable, element);\n",
              "          const docLink = document.createElement('div');\n",
              "          docLink.innerHTML = docLinkHtml;\n",
              "          element.appendChild(docLink);\n",
              "        }\n",
              "      </script>\n",
              "    </div>\n",
              "  </div>\n",
              "  "
            ]
          },
          "metadata": {},
          "execution_count": 4
        }
      ],
      "source": [
        "owi = pd.read_json('/content/drive/My Drive/Colab Notebooks/Yandex/resources/orders_with_items.json')\n",
        "owi.head()"
      ]
    },
    {
      "cell_type": "code",
      "execution_count": 5,
      "metadata": {
        "cellId": "khq90q1sum49h9d1xcoht",
        "colab": {
          "base_uri": "https://localhost:8080/"
        },
        "id": "PvRapoQYYSmy",
        "outputId": "34671494-1ec9-40ff-c54b-9f17a6653487"
      },
      "outputs": [
        {
          "output_type": "stream",
          "name": "stdout",
          "text": [
            "<class 'pandas.core.frame.DataFrame'>\n",
            "RangeIndex: 40375 entries, 0 to 40374\n",
            "Data columns (total 4 columns):\n",
            " #   Column     Non-Null Count  Dtype  \n",
            "---  ------     --------------  -----  \n",
            " 0   OrderID    40375 non-null  int64  \n",
            " 1   UserID     40375 non-null  float64\n",
            " 2   OrderTime  40375 non-null  object \n",
            " 3   items      40375 non-null  object \n",
            "dtypes: float64(1), int64(1), object(2)\n",
            "memory usage: 1.2+ MB\n"
          ]
        }
      ],
      "source": [
        "owi.info()"
      ]
    },
    {
      "cell_type": "code",
      "source": [
        "owi.columns"
      ],
      "metadata": {
        "colab": {
          "base_uri": "https://localhost:8080/"
        },
        "id": "Hx7p-QsrbKrW",
        "outputId": "9f950a14-6810-428c-e968-8dc4bd9bcfb9"
      },
      "execution_count": 6,
      "outputs": [
        {
          "output_type": "execute_result",
          "data": {
            "text/plain": [
              "Index(['OrderID', 'UserID', 'OrderTime', 'items'], dtype='object')"
            ]
          },
          "metadata": {},
          "execution_count": 6
        }
      ]
    },
    {
      "cell_type": "markdown",
      "source": [
        "Чтобы решить, какого числа было сделано наибольшее количество заказов, нужно сгруппировать данные по дате заказа, посчитать количество заказов по каждой дате, найти максимальное количество заказов и определить дату."
      ],
      "metadata": {
        "id": "GfOQryiIba7w"
      }
    },
    {
      "cell_type": "markdown",
      "source": [
        "У нас дата находится в колонке ['OrderTime'], сейчас в этой колонке тип данных object. Переведём данные в тип datetime64"
      ],
      "metadata": {
        "id": "U2y650b4b3w2"
      }
    },
    {
      "cell_type": "code",
      "source": [
        "import datetime"
      ],
      "metadata": {
        "id": "5k_bdf-Qdqei"
      },
      "execution_count": 7,
      "outputs": []
    },
    {
      "cell_type": "code",
      "execution_count": 8,
      "metadata": {
        "cellId": "5e821yjwjow6qvjanzqfab",
        "colab": {
          "base_uri": "https://localhost:8080/"
        },
        "id": "OxtSh18LYSm3",
        "outputId": "1c968b52-7721-4ebf-baf1-1818547a8816"
      },
      "outputs": [
        {
          "output_type": "execute_result",
          "data": {
            "text/plain": [
              "0       2021-01-01 03:51:42\n",
              "1       2021-01-01 04:13:13\n",
              "2       2021-01-01 05:48:53\n",
              "3       2021-01-01 08:33:41\n",
              "4       2021-01-01 09:55:35\n",
              "                ...        \n",
              "40370   2021-06-30 23:40:23\n",
              "40371   2021-06-30 23:41:41\n",
              "40372   2021-06-30 23:49:12\n",
              "40373   2021-06-30 23:56:21\n",
              "40374   2021-06-30 23:58:09\n",
              "Name: OrderTime, Length: 40375, dtype: datetime64[ns]"
            ]
          },
          "metadata": {},
          "execution_count": 8
        }
      ],
      "source": [
        "pd.to_datetime(owi.OrderTime)"
      ]
    },
    {
      "cell_type": "code",
      "source": [
        "pd.to_datetime(owi.OrderTime)[0]"
      ],
      "metadata": {
        "colab": {
          "base_uri": "https://localhost:8080/"
        },
        "id": "NYKL3v_qdLen",
        "outputId": "a2a9c8e2-0a55-46b7-9aca-6a0e1359a941"
      },
      "execution_count": 9,
      "outputs": [
        {
          "output_type": "execute_result",
          "data": {
            "text/plain": [
              "Timestamp('2021-01-01 03:51:42')"
            ]
          },
          "metadata": {},
          "execution_count": 9
        }
      ]
    },
    {
      "cell_type": "code",
      "source": [
        "pd.to_datetime(owi.OrderTime)[0].date()"
      ],
      "metadata": {
        "colab": {
          "base_uri": "https://localhost:8080/"
        },
        "id": "mAtV6x-MdvrW",
        "outputId": "e37ef951-850f-43e4-e3d1-35099fa2181e"
      },
      "execution_count": 10,
      "outputs": [
        {
          "output_type": "execute_result",
          "data": {
            "text/plain": [
              "datetime.date(2021, 1, 1)"
            ]
          },
          "metadata": {},
          "execution_count": 10
        }
      ]
    },
    {
      "cell_type": "code",
      "source": [
        "str(pd.to_datetime(owi.OrderTime)[0].date())"
      ],
      "metadata": {
        "colab": {
          "base_uri": "https://localhost:8080/",
          "height": 36
        },
        "id": "Ufzd9Qb3d-gn",
        "outputId": "a44ed6fd-f2a4-459a-c39b-bc9f4d0d9698"
      },
      "execution_count": 11,
      "outputs": [
        {
          "output_type": "execute_result",
          "data": {
            "text/plain": [
              "'2021-01-01'"
            ],
            "application/vnd.google.colaboratory.intrinsic+json": {
              "type": "string"
            }
          },
          "metadata": {},
          "execution_count": 11
        }
      ]
    },
    {
      "cell_type": "code",
      "source": [
        "# owi['OrderT_v1'] == owi.OrderTime.apply(lambda x: x == str(pd.to_datetime(x.OrderTime)[0].date()))"
      ],
      "metadata": {
        "id": "Pe6SPifueLKQ"
      },
      "execution_count": null,
      "outputs": []
    },
    {
      "cell_type": "code",
      "source": [
        "# owi.OrderTime.apply(lambda x: x == str(pd.to_datetime(x.OrderTime).date()))"
      ],
      "metadata": {
        "id": "DeOXshZNfL4D"
      },
      "execution_count": null,
      "outputs": []
    },
    {
      "cell_type": "code",
      "execution_count": 12,
      "metadata": {
        "cellId": "uwq9k76t8uk2y9fnmwk081",
        "colab": {
          "base_uri": "https://localhost:8080/",
          "height": 36
        },
        "id": "g5ZlX67pYSm5",
        "outputId": "530ecf7e-f3f5-4a43-89bc-5cab2ce375a4"
      },
      "outputs": [
        {
          "output_type": "execute_result",
          "data": {
            "text/plain": [
              "'2021-01-01'"
            ],
            "application/vnd.google.colaboratory.intrinsic+json": {
              "type": "string"
            }
          },
          "metadata": {},
          "execution_count": 12
        }
      ],
      "source": [
        "owi.OrderTime[0][0:10]"
      ]
    },
    {
      "cell_type": "code",
      "execution_count": 13,
      "metadata": {
        "cellId": "fhtou0jbrh6bfnndtvzi0k",
        "colab": {
          "base_uri": "https://localhost:8080/"
        },
        "id": "aFkC2qxvYSm6",
        "outputId": "70a6effe-7005-4018-f24f-4509937dd821"
      },
      "outputs": [
        {
          "output_type": "execute_result",
          "data": {
            "text/plain": [
              "0        2021-01-01\n",
              "1        2021-01-01\n",
              "2        2021-01-01\n",
              "3        2021-01-01\n",
              "4        2021-01-01\n",
              "            ...    \n",
              "40370    2021-06-30\n",
              "40371    2021-06-30\n",
              "40372    2021-06-30\n",
              "40373    2021-06-30\n",
              "40374    2021-06-30\n",
              "Name: OrderTime, Length: 40375, dtype: object"
            ]
          },
          "metadata": {},
          "execution_count": 13
        }
      ],
      "source": [
        "owi.OrderTime.apply(lambda x: x[0:10])"
      ]
    },
    {
      "cell_type": "markdown",
      "source": [
        "Используем более быстрый способ, по срезу строки."
      ],
      "metadata": {
        "id": "mH_nacKmAFEQ"
      }
    },
    {
      "cell_type": "code",
      "source": [
        "owi.OrderTime.apply(lambda x: x[0:10])"
      ],
      "metadata": {
        "colab": {
          "base_uri": "https://localhost:8080/"
        },
        "id": "fdFb3VDfgppK",
        "outputId": "0facbfab-a0b6-4d21-899f-25d7b58babc1"
      },
      "execution_count": 14,
      "outputs": [
        {
          "output_type": "execute_result",
          "data": {
            "text/plain": [
              "0        2021-01-01\n",
              "1        2021-01-01\n",
              "2        2021-01-01\n",
              "3        2021-01-01\n",
              "4        2021-01-01\n",
              "            ...    \n",
              "40370    2021-06-30\n",
              "40371    2021-06-30\n",
              "40372    2021-06-30\n",
              "40373    2021-06-30\n",
              "40374    2021-06-30\n",
              "Name: OrderTime, Length: 40375, dtype: object"
            ]
          },
          "metadata": {},
          "execution_count": 14
        }
      ]
    },
    {
      "cell_type": "code",
      "execution_count": 15,
      "metadata": {
        "cellId": "6zd661upgeobxan8m35afs",
        "id": "9_wkYF58YSm7"
      },
      "outputs": [],
      "source": [
        "owi['OrderT_v2']= owi.OrderTime.apply(lambda x: x[0:10])"
      ]
    },
    {
      "cell_type": "code",
      "execution_count": 16,
      "metadata": {
        "cellId": "a9v0s0qwxni7nm1bxfw9n2",
        "colab": {
          "base_uri": "https://localhost:8080/",
          "height": 112
        },
        "id": "fCT7CjRCYSm7",
        "outputId": "ddcf2061-9c48-46c3-9907-8511ee20e5b7"
      },
      "outputs": [
        {
          "output_type": "execute_result",
          "data": {
            "text/plain": [
              "    OrderID        UserID            OrderTime  \\\n",
              "0  90659865  1.609460e+18  2021-01-01 03:51:42   \n",
              "1  90622054  2.499293e+18  2021-01-01 04:13:13   \n",
              "\n",
              "                                               items   OrderT_v2  \n",
              "0  [{'ItemID': '413736', 'price': 36.72, 'quantit...  2021-01-01  \n",
              "1  [{'ItemID': '961454', 'price': 179.9, 'quantit...  2021-01-01  "
            ],
            "text/html": [
              "\n",
              "  <div id=\"df-65d03035-05b3-4aa9-bbe6-e8257630957b\">\n",
              "    <div class=\"colab-df-container\">\n",
              "      <div>\n",
              "<style scoped>\n",
              "    .dataframe tbody tr th:only-of-type {\n",
              "        vertical-align: middle;\n",
              "    }\n",
              "\n",
              "    .dataframe tbody tr th {\n",
              "        vertical-align: top;\n",
              "    }\n",
              "\n",
              "    .dataframe thead th {\n",
              "        text-align: right;\n",
              "    }\n",
              "</style>\n",
              "<table border=\"1\" class=\"dataframe\">\n",
              "  <thead>\n",
              "    <tr style=\"text-align: right;\">\n",
              "      <th></th>\n",
              "      <th>OrderID</th>\n",
              "      <th>UserID</th>\n",
              "      <th>OrderTime</th>\n",
              "      <th>items</th>\n",
              "      <th>OrderT_v2</th>\n",
              "    </tr>\n",
              "  </thead>\n",
              "  <tbody>\n",
              "    <tr>\n",
              "      <th>0</th>\n",
              "      <td>90659865</td>\n",
              "      <td>1.609460e+18</td>\n",
              "      <td>2021-01-01 03:51:42</td>\n",
              "      <td>[{'ItemID': '413736', 'price': 36.72, 'quantit...</td>\n",
              "      <td>2021-01-01</td>\n",
              "    </tr>\n",
              "    <tr>\n",
              "      <th>1</th>\n",
              "      <td>90622054</td>\n",
              "      <td>2.499293e+18</td>\n",
              "      <td>2021-01-01 04:13:13</td>\n",
              "      <td>[{'ItemID': '961454', 'price': 179.9, 'quantit...</td>\n",
              "      <td>2021-01-01</td>\n",
              "    </tr>\n",
              "  </tbody>\n",
              "</table>\n",
              "</div>\n",
              "      <button class=\"colab-df-convert\" onclick=\"convertToInteractive('df-65d03035-05b3-4aa9-bbe6-e8257630957b')\"\n",
              "              title=\"Convert this dataframe to an interactive table.\"\n",
              "              style=\"display:none;\">\n",
              "        \n",
              "  <svg xmlns=\"http://www.w3.org/2000/svg\" height=\"24px\"viewBox=\"0 0 24 24\"\n",
              "       width=\"24px\">\n",
              "    <path d=\"M0 0h24v24H0V0z\" fill=\"none\"/>\n",
              "    <path d=\"M18.56 5.44l.94 2.06.94-2.06 2.06-.94-2.06-.94-.94-2.06-.94 2.06-2.06.94zm-11 1L8.5 8.5l.94-2.06 2.06-.94-2.06-.94L8.5 2.5l-.94 2.06-2.06.94zm10 10l.94 2.06.94-2.06 2.06-.94-2.06-.94-.94-2.06-.94 2.06-2.06.94z\"/><path d=\"M17.41 7.96l-1.37-1.37c-.4-.4-.92-.59-1.43-.59-.52 0-1.04.2-1.43.59L10.3 9.45l-7.72 7.72c-.78.78-.78 2.05 0 2.83L4 21.41c.39.39.9.59 1.41.59.51 0 1.02-.2 1.41-.59l7.78-7.78 2.81-2.81c.8-.78.8-2.07 0-2.86zM5.41 20L4 18.59l7.72-7.72 1.47 1.35L5.41 20z\"/>\n",
              "  </svg>\n",
              "      </button>\n",
              "      \n",
              "  <style>\n",
              "    .colab-df-container {\n",
              "      display:flex;\n",
              "      flex-wrap:wrap;\n",
              "      gap: 12px;\n",
              "    }\n",
              "\n",
              "    .colab-df-convert {\n",
              "      background-color: #E8F0FE;\n",
              "      border: none;\n",
              "      border-radius: 50%;\n",
              "      cursor: pointer;\n",
              "      display: none;\n",
              "      fill: #1967D2;\n",
              "      height: 32px;\n",
              "      padding: 0 0 0 0;\n",
              "      width: 32px;\n",
              "    }\n",
              "\n",
              "    .colab-df-convert:hover {\n",
              "      background-color: #E2EBFA;\n",
              "      box-shadow: 0px 1px 2px rgba(60, 64, 67, 0.3), 0px 1px 3px 1px rgba(60, 64, 67, 0.15);\n",
              "      fill: #174EA6;\n",
              "    }\n",
              "\n",
              "    [theme=dark] .colab-df-convert {\n",
              "      background-color: #3B4455;\n",
              "      fill: #D2E3FC;\n",
              "    }\n",
              "\n",
              "    [theme=dark] .colab-df-convert:hover {\n",
              "      background-color: #434B5C;\n",
              "      box-shadow: 0px 1px 3px 1px rgba(0, 0, 0, 0.15);\n",
              "      filter: drop-shadow(0px 1px 2px rgba(0, 0, 0, 0.3));\n",
              "      fill: #FFFFFF;\n",
              "    }\n",
              "  </style>\n",
              "\n",
              "      <script>\n",
              "        const buttonEl =\n",
              "          document.querySelector('#df-65d03035-05b3-4aa9-bbe6-e8257630957b button.colab-df-convert');\n",
              "        buttonEl.style.display =\n",
              "          google.colab.kernel.accessAllowed ? 'block' : 'none';\n",
              "\n",
              "        async function convertToInteractive(key) {\n",
              "          const element = document.querySelector('#df-65d03035-05b3-4aa9-bbe6-e8257630957b');\n",
              "          const dataTable =\n",
              "            await google.colab.kernel.invokeFunction('convertToInteractive',\n",
              "                                                     [key], {});\n",
              "          if (!dataTable) return;\n",
              "\n",
              "          const docLinkHtml = 'Like what you see? Visit the ' +\n",
              "            '<a target=\"_blank\" href=https://colab.research.google.com/notebooks/data_table.ipynb>data table notebook</a>'\n",
              "            + ' to learn more about interactive tables.';\n",
              "          element.innerHTML = '';\n",
              "          dataTable['output_type'] = 'display_data';\n",
              "          await google.colab.output.renderOutput(dataTable, element);\n",
              "          const docLink = document.createElement('div');\n",
              "          docLink.innerHTML = docLinkHtml;\n",
              "          element.appendChild(docLink);\n",
              "        }\n",
              "      </script>\n",
              "    </div>\n",
              "  </div>\n",
              "  "
            ]
          },
          "metadata": {},
          "execution_count": 16
        }
      ],
      "source": [
        "owi.head(2)"
      ]
    },
    {
      "cell_type": "code",
      "execution_count": 17,
      "metadata": {
        "cellId": "cf0go350p4uyksdxcgptdk",
        "colab": {
          "base_uri": "https://localhost:8080/"
        },
        "id": "2D21pExFYSm7",
        "outputId": "2d586c11-664f-4afa-cf22-7bc009b3ec25"
      },
      "outputs": [
        {
          "output_type": "execute_result",
          "data": {
            "text/plain": [
              "Index(['OrderID', 'UserID', 'OrderTime', 'items', 'OrderT_v2'], dtype='object')"
            ]
          },
          "metadata": {},
          "execution_count": 17
        }
      ],
      "source": [
        "owi.columns"
      ]
    },
    {
      "cell_type": "code",
      "execution_count": 18,
      "metadata": {
        "cellId": "kdignvwjmikk4yvcxcu7j",
        "colab": {
          "base_uri": "https://localhost:8080/"
        },
        "id": "p8KmK7LuYSm8",
        "outputId": "c5d9e98d-f699-487e-dde9-94d71e57cefc"
      },
      "outputs": [
        {
          "output_type": "execute_result",
          "data": {
            "text/plain": [
              "0        2021-01-01\n",
              "1        2021-01-01\n",
              "2        2021-01-01\n",
              "3        2021-01-01\n",
              "4        2021-01-01\n",
              "            ...    \n",
              "40370    2021-06-30\n",
              "40371    2021-06-30\n",
              "40372    2021-06-30\n",
              "40373    2021-06-30\n",
              "40374    2021-06-30\n",
              "Name: OrderT_v2, Length: 40375, dtype: object"
            ]
          },
          "metadata": {},
          "execution_count": 18
        }
      ],
      "source": [
        "owi.OrderT_v2"
      ]
    },
    {
      "cell_type": "code",
      "execution_count": 19,
      "metadata": {
        "cellId": "iscuo7ivyldujzp9qw7k7n",
        "id": "KS2ZlAa5YSm8"
      },
      "outputs": [],
      "source": [
        "owi_grouped = owi.groupby(['OrderT_v2'])\n",
        "#.agg('OrderID', sum())"
      ]
    },
    {
      "cell_type": "code",
      "execution_count": 20,
      "metadata": {
        "cellId": "xx3cw3iow1h5x18alce61i",
        "colab": {
          "base_uri": "https://localhost:8080/",
          "height": 423
        },
        "id": "7oMs7_V0YSm9",
        "outputId": "24a2d22e-661b-49a8-bbd1-e272f788e04f"
      },
      "outputs": [
        {
          "output_type": "execute_result",
          "data": {
            "text/plain": [
              "        OrderID        UserID            OrderTime  \\\n",
              "0      90659865  1.609460e+18  2021-01-01 03:51:42   \n",
              "1      90622054  2.499293e+18  2021-01-01 04:13:13   \n",
              "2      90659952  3.945866e+17  2021-01-01 05:48:53   \n",
              "3      89765281  5.412765e+18  2021-01-01 08:33:41   \n",
              "4      90582308  6.380061e+18  2021-01-01 09:55:35   \n",
              "...         ...           ...                  ...   \n",
              "40183  93775131  9.789680e+18  2021-06-30 00:03:32   \n",
              "40184  93863937  8.297042e+18  2021-06-30 00:14:18   \n",
              "40185  93939920  2.836912e+17  2021-06-30 00:31:31   \n",
              "40186  93939704  3.841788e+18  2021-06-30 00:31:45   \n",
              "40187  93939578  7.526083e+18  2021-06-30 00:44:45   \n",
              "\n",
              "                                                   items   OrderT_v2  \n",
              "0      [{'ItemID': '413736', 'price': 36.72, 'quantit...  2021-01-01  \n",
              "1      [{'ItemID': '961454', 'price': 179.9, 'quantit...  2021-01-01  \n",
              "2      [{'ItemID': '306553', 'price': 101.9, 'quantit...  2021-01-01  \n",
              "3      [{'ItemID': '979703', 'price': 99.9, 'quantity...  2021-01-01  \n",
              "4      [{'ItemID': '303765', 'price': 44.9, 'quantity...  2021-01-01  \n",
              "...                                                  ...         ...  \n",
              "40183  [{'ItemID': '961330', 'price': 429.9, 'quantit...  2021-06-30  \n",
              "40184  [{'ItemID': '309885', 'price': 28.9, 'quantity...  2021-06-30  \n",
              "40185  [{'ItemID': '699444', 'price': 498.9, 'quantit...  2021-06-30  \n",
              "40186  [{'ItemID': '1052750', 'price': 17.9, 'quantit...  2021-06-30  \n",
              "40187  [{'ItemID': '307051', 'price': 53.9, 'quantity...  2021-06-30  \n",
              "\n",
              "[905 rows x 5 columns]"
            ],
            "text/html": [
              "\n",
              "  <div id=\"df-31f1b28d-ee9a-4cbb-8efe-6b18f1860899\">\n",
              "    <div class=\"colab-df-container\">\n",
              "      <div>\n",
              "<style scoped>\n",
              "    .dataframe tbody tr th:only-of-type {\n",
              "        vertical-align: middle;\n",
              "    }\n",
              "\n",
              "    .dataframe tbody tr th {\n",
              "        vertical-align: top;\n",
              "    }\n",
              "\n",
              "    .dataframe thead th {\n",
              "        text-align: right;\n",
              "    }\n",
              "</style>\n",
              "<table border=\"1\" class=\"dataframe\">\n",
              "  <thead>\n",
              "    <tr style=\"text-align: right;\">\n",
              "      <th></th>\n",
              "      <th>OrderID</th>\n",
              "      <th>UserID</th>\n",
              "      <th>OrderTime</th>\n",
              "      <th>items</th>\n",
              "      <th>OrderT_v2</th>\n",
              "    </tr>\n",
              "  </thead>\n",
              "  <tbody>\n",
              "    <tr>\n",
              "      <th>0</th>\n",
              "      <td>90659865</td>\n",
              "      <td>1.609460e+18</td>\n",
              "      <td>2021-01-01 03:51:42</td>\n",
              "      <td>[{'ItemID': '413736', 'price': 36.72, 'quantit...</td>\n",
              "      <td>2021-01-01</td>\n",
              "    </tr>\n",
              "    <tr>\n",
              "      <th>1</th>\n",
              "      <td>90622054</td>\n",
              "      <td>2.499293e+18</td>\n",
              "      <td>2021-01-01 04:13:13</td>\n",
              "      <td>[{'ItemID': '961454', 'price': 179.9, 'quantit...</td>\n",
              "      <td>2021-01-01</td>\n",
              "    </tr>\n",
              "    <tr>\n",
              "      <th>2</th>\n",
              "      <td>90659952</td>\n",
              "      <td>3.945866e+17</td>\n",
              "      <td>2021-01-01 05:48:53</td>\n",
              "      <td>[{'ItemID': '306553', 'price': 101.9, 'quantit...</td>\n",
              "      <td>2021-01-01</td>\n",
              "    </tr>\n",
              "    <tr>\n",
              "      <th>3</th>\n",
              "      <td>89765281</td>\n",
              "      <td>5.412765e+18</td>\n",
              "      <td>2021-01-01 08:33:41</td>\n",
              "      <td>[{'ItemID': '979703', 'price': 99.9, 'quantity...</td>\n",
              "      <td>2021-01-01</td>\n",
              "    </tr>\n",
              "    <tr>\n",
              "      <th>4</th>\n",
              "      <td>90582308</td>\n",
              "      <td>6.380061e+18</td>\n",
              "      <td>2021-01-01 09:55:35</td>\n",
              "      <td>[{'ItemID': '303765', 'price': 44.9, 'quantity...</td>\n",
              "      <td>2021-01-01</td>\n",
              "    </tr>\n",
              "    <tr>\n",
              "      <th>...</th>\n",
              "      <td>...</td>\n",
              "      <td>...</td>\n",
              "      <td>...</td>\n",
              "      <td>...</td>\n",
              "      <td>...</td>\n",
              "    </tr>\n",
              "    <tr>\n",
              "      <th>40183</th>\n",
              "      <td>93775131</td>\n",
              "      <td>9.789680e+18</td>\n",
              "      <td>2021-06-30 00:03:32</td>\n",
              "      <td>[{'ItemID': '961330', 'price': 429.9, 'quantit...</td>\n",
              "      <td>2021-06-30</td>\n",
              "    </tr>\n",
              "    <tr>\n",
              "      <th>40184</th>\n",
              "      <td>93863937</td>\n",
              "      <td>8.297042e+18</td>\n",
              "      <td>2021-06-30 00:14:18</td>\n",
              "      <td>[{'ItemID': '309885', 'price': 28.9, 'quantity...</td>\n",
              "      <td>2021-06-30</td>\n",
              "    </tr>\n",
              "    <tr>\n",
              "      <th>40185</th>\n",
              "      <td>93939920</td>\n",
              "      <td>2.836912e+17</td>\n",
              "      <td>2021-06-30 00:31:31</td>\n",
              "      <td>[{'ItemID': '699444', 'price': 498.9, 'quantit...</td>\n",
              "      <td>2021-06-30</td>\n",
              "    </tr>\n",
              "    <tr>\n",
              "      <th>40186</th>\n",
              "      <td>93939704</td>\n",
              "      <td>3.841788e+18</td>\n",
              "      <td>2021-06-30 00:31:45</td>\n",
              "      <td>[{'ItemID': '1052750', 'price': 17.9, 'quantit...</td>\n",
              "      <td>2021-06-30</td>\n",
              "    </tr>\n",
              "    <tr>\n",
              "      <th>40187</th>\n",
              "      <td>93939578</td>\n",
              "      <td>7.526083e+18</td>\n",
              "      <td>2021-06-30 00:44:45</td>\n",
              "      <td>[{'ItemID': '307051', 'price': 53.9, 'quantity...</td>\n",
              "      <td>2021-06-30</td>\n",
              "    </tr>\n",
              "  </tbody>\n",
              "</table>\n",
              "<p>905 rows × 5 columns</p>\n",
              "</div>\n",
              "      <button class=\"colab-df-convert\" onclick=\"convertToInteractive('df-31f1b28d-ee9a-4cbb-8efe-6b18f1860899')\"\n",
              "              title=\"Convert this dataframe to an interactive table.\"\n",
              "              style=\"display:none;\">\n",
              "        \n",
              "  <svg xmlns=\"http://www.w3.org/2000/svg\" height=\"24px\"viewBox=\"0 0 24 24\"\n",
              "       width=\"24px\">\n",
              "    <path d=\"M0 0h24v24H0V0z\" fill=\"none\"/>\n",
              "    <path d=\"M18.56 5.44l.94 2.06.94-2.06 2.06-.94-2.06-.94-.94-2.06-.94 2.06-2.06.94zm-11 1L8.5 8.5l.94-2.06 2.06-.94-2.06-.94L8.5 2.5l-.94 2.06-2.06.94zm10 10l.94 2.06.94-2.06 2.06-.94-2.06-.94-.94-2.06-.94 2.06-2.06.94z\"/><path d=\"M17.41 7.96l-1.37-1.37c-.4-.4-.92-.59-1.43-.59-.52 0-1.04.2-1.43.59L10.3 9.45l-7.72 7.72c-.78.78-.78 2.05 0 2.83L4 21.41c.39.39.9.59 1.41.59.51 0 1.02-.2 1.41-.59l7.78-7.78 2.81-2.81c.8-.78.8-2.07 0-2.86zM5.41 20L4 18.59l7.72-7.72 1.47 1.35L5.41 20z\"/>\n",
              "  </svg>\n",
              "      </button>\n",
              "      \n",
              "  <style>\n",
              "    .colab-df-container {\n",
              "      display:flex;\n",
              "      flex-wrap:wrap;\n",
              "      gap: 12px;\n",
              "    }\n",
              "\n",
              "    .colab-df-convert {\n",
              "      background-color: #E8F0FE;\n",
              "      border: none;\n",
              "      border-radius: 50%;\n",
              "      cursor: pointer;\n",
              "      display: none;\n",
              "      fill: #1967D2;\n",
              "      height: 32px;\n",
              "      padding: 0 0 0 0;\n",
              "      width: 32px;\n",
              "    }\n",
              "\n",
              "    .colab-df-convert:hover {\n",
              "      background-color: #E2EBFA;\n",
              "      box-shadow: 0px 1px 2px rgba(60, 64, 67, 0.3), 0px 1px 3px 1px rgba(60, 64, 67, 0.15);\n",
              "      fill: #174EA6;\n",
              "    }\n",
              "\n",
              "    [theme=dark] .colab-df-convert {\n",
              "      background-color: #3B4455;\n",
              "      fill: #D2E3FC;\n",
              "    }\n",
              "\n",
              "    [theme=dark] .colab-df-convert:hover {\n",
              "      background-color: #434B5C;\n",
              "      box-shadow: 0px 1px 3px 1px rgba(0, 0, 0, 0.15);\n",
              "      filter: drop-shadow(0px 1px 2px rgba(0, 0, 0, 0.3));\n",
              "      fill: #FFFFFF;\n",
              "    }\n",
              "  </style>\n",
              "\n",
              "      <script>\n",
              "        const buttonEl =\n",
              "          document.querySelector('#df-31f1b28d-ee9a-4cbb-8efe-6b18f1860899 button.colab-df-convert');\n",
              "        buttonEl.style.display =\n",
              "          google.colab.kernel.accessAllowed ? 'block' : 'none';\n",
              "\n",
              "        async function convertToInteractive(key) {\n",
              "          const element = document.querySelector('#df-31f1b28d-ee9a-4cbb-8efe-6b18f1860899');\n",
              "          const dataTable =\n",
              "            await google.colab.kernel.invokeFunction('convertToInteractive',\n",
              "                                                     [key], {});\n",
              "          if (!dataTable) return;\n",
              "\n",
              "          const docLinkHtml = 'Like what you see? Visit the ' +\n",
              "            '<a target=\"_blank\" href=https://colab.research.google.com/notebooks/data_table.ipynb>data table notebook</a>'\n",
              "            + ' to learn more about interactive tables.';\n",
              "          element.innerHTML = '';\n",
              "          dataTable['output_type'] = 'display_data';\n",
              "          await google.colab.output.renderOutput(dataTable, element);\n",
              "          const docLink = document.createElement('div');\n",
              "          docLink.innerHTML = docLinkHtml;\n",
              "          element.appendChild(docLink);\n",
              "        }\n",
              "      </script>\n",
              "    </div>\n",
              "  </div>\n",
              "  "
            ]
          },
          "metadata": {},
          "execution_count": 20
        }
      ],
      "source": [
        "owi_grouped.head()"
      ]
    },
    {
      "cell_type": "code",
      "execution_count": 21,
      "metadata": {
        "cellId": "e21b5a63-7a9e-46f0-b0bb-560c950ad4fc",
        "colab": {
          "base_uri": "https://localhost:8080/"
        },
        "id": "Ws9TuLGKYSm9",
        "outputId": "7a91f5fb-ea10-4bfc-9aa4-9fe53665c1c5"
      },
      "outputs": [
        {
          "output_type": "execute_result",
          "data": {
            "text/plain": [
              "342"
            ]
          },
          "metadata": {},
          "execution_count": 21
        }
      ],
      "source": [
        "maxOrders = owi_grouped['OrderID'].count().max()\n",
        "maxOrders"
      ]
    },
    {
      "cell_type": "code",
      "execution_count": 22,
      "metadata": {
        "cellId": "xe6fzjzh6shrb0hck59g8",
        "colab": {
          "base_uri": "https://localhost:8080/"
        },
        "id": "ALUsaX7vYSm9",
        "outputId": "faf94fc0-1c2b-479d-9dfe-79a3b891613b"
      },
      "outputs": [
        {
          "output_type": "execute_result",
          "data": {
            "text/plain": [
              "OrderT_v2\n",
              "2021-01-01     75\n",
              "2021-01-02    154\n",
              "2021-01-03    164\n",
              "2021-01-04    212\n",
              "2021-01-05    226\n",
              "             ... \n",
              "2021-06-26    179\n",
              "2021-06-27    154\n",
              "2021-06-28    178\n",
              "2021-06-29    196\n",
              "2021-06-30    192\n",
              "Name: OrderID, Length: 181, dtype: int64"
            ]
          },
          "metadata": {},
          "execution_count": 22
        }
      ],
      "source": [
        "owi_grS = owi_grouped['OrderID'].count()\n",
        "owi_grS"
      ]
    },
    {
      "cell_type": "code",
      "execution_count": 23,
      "metadata": {
        "cellId": "nuqqinfu228ctiay91dt7w",
        "colab": {
          "base_uri": "https://localhost:8080/"
        },
        "id": "yl3CDf5PYSm-",
        "outputId": "139af352-1423-4738-da8c-a159a4a169ce"
      },
      "outputs": [
        {
          "output_type": "execute_result",
          "data": {
            "text/plain": [
              "pandas.core.series.Series"
            ]
          },
          "metadata": {},
          "execution_count": 23
        }
      ],
      "source": [
        "type(owi_grS)"
      ]
    },
    {
      "cell_type": "code",
      "execution_count": 24,
      "metadata": {
        "cellId": "868mfqr5525r6tpmyqk9h",
        "id": "4sEoNf8qYSm_"
      },
      "outputs": [],
      "source": [
        "owi_grS = owi_grouped['OrderID'].count()"
      ]
    },
    {
      "cell_type": "code",
      "execution_count": 25,
      "metadata": {
        "cellId": "032h1rwdx6690yc82gbocy2d",
        "colab": {
          "base_uri": "https://localhost:8080/"
        },
        "id": "aL5w8cVjYSm_",
        "outputId": "8d82395d-dc87-4505-a32c-8e72c7f9dd06"
      },
      "outputs": [
        {
          "output_type": "execute_result",
          "data": {
            "text/plain": [
              "OrderT_v2\n",
              "2021-01-01     75\n",
              "2021-01-02    154\n",
              "2021-01-03    164\n",
              "2021-01-04    212\n",
              "2021-01-05    226\n",
              "             ... \n",
              "2021-06-26    179\n",
              "2021-06-27    154\n",
              "2021-06-28    178\n",
              "2021-06-29    196\n",
              "2021-06-30    192\n",
              "Name: OrderID, Length: 181, dtype: int64"
            ]
          },
          "metadata": {},
          "execution_count": 25
        }
      ],
      "source": [
        "owi_grS"
      ]
    },
    {
      "cell_type": "code",
      "execution_count": 26,
      "metadata": {
        "cellId": "k2p1ngciqeir612pzvhmh",
        "colab": {
          "base_uri": "https://localhost:8080/"
        },
        "id": "8h91cI_yYSm_",
        "outputId": "b767160f-4187-4abf-d179-4c932ccd3e73"
      },
      "outputs": [
        {
          "output_type": "execute_result",
          "data": {
            "text/plain": [
              "OrderT_v2\n",
              "2021-01-01     75\n",
              "2021-05-02    124\n",
              "2021-06-14    148\n",
              "2021-05-23    149\n",
              "2021-06-06    153\n",
              "             ... \n",
              "2021-02-13    313\n",
              "2021-01-16    318\n",
              "2021-02-12    321\n",
              "2021-03-06    335\n",
              "2021-02-05    342\n",
              "Name: OrderID, Length: 181, dtype: int64"
            ]
          },
          "metadata": {},
          "execution_count": 26
        }
      ],
      "source": [
        "owi_grS.sort_values()"
      ]
    },
    {
      "cell_type": "markdown",
      "source": [
        "И, находим ответ, дату, где совершенно максимальное количество покупок."
      ],
      "metadata": {
        "id": "gnSAjwDfAWSo"
      }
    },
    {
      "cell_type": "code",
      "execution_count": 27,
      "metadata": {
        "cellId": "6gx93wr3d6pdmw64mphzh8",
        "colab": {
          "base_uri": "https://localhost:8080/",
          "height": 36
        },
        "id": "32TsMm2-YSnA",
        "outputId": "fe6f162a-ad3e-430f-c000-03b18a5ff252"
      },
      "outputs": [
        {
          "output_type": "execute_result",
          "data": {
            "text/plain": [
              "'2021-02-05'"
            ],
            "application/vnd.google.colaboratory.intrinsic+json": {
              "type": "string"
            }
          },
          "metadata": {},
          "execution_count": 27
        }
      ],
      "source": [
        "owi_grS.idxmax()"
      ]
    },
    {
      "cell_type": "markdown",
      "source": [
        "Максимальное количество товаров совершено '2021-02-05'"
      ],
      "metadata": {
        "id": "egnqEoowjFYv"
      }
    },
    {
      "cell_type": "markdown",
      "source": [
        "2. Давайте посмотрим на категории товаров. Найдите топ-3 ParentCategory по GMV (суммарная выручка, которую принесла продажа товаров этой категории)?"
      ],
      "metadata": {
        "id": "t0EKiskrjRAo"
      }
    },
    {
      "cell_type": "code",
      "source": [
        "df = pd.read_csv('/content/drive/My Drive/Colab Notebooks/Yandex/resources/items_with_categ.csv')\n",
        "df.head()"
      ],
      "metadata": {
        "colab": {
          "base_uri": "https://localhost:8080/",
          "height": 206
        },
        "id": "zdzQ18CUbT_n",
        "outputId": "dc49bd0c-b6a0-439d-8051-232819bd467e"
      },
      "execution_count": 28,
      "outputs": [
        {
          "output_type": "execute_result",
          "data": {
            "text/plain": [
              "    ItemID                 Category  ParentCategory\n",
              "0  1000002  Сладости для диабетиков        Сладости\n",
              "1  1000046                     Вода         Напитки\n",
              "2  1000048  Сладости для диабетиков        Сладости\n",
              "3  1000049                     Вода         Напитки\n",
              "4  1000061                   Фрукты  Овощи и фрукты"
            ],
            "text/html": [
              "\n",
              "  <div id=\"df-15adc8e6-4d9d-49fc-b4b8-7e65a09d7c4f\">\n",
              "    <div class=\"colab-df-container\">\n",
              "      <div>\n",
              "<style scoped>\n",
              "    .dataframe tbody tr th:only-of-type {\n",
              "        vertical-align: middle;\n",
              "    }\n",
              "\n",
              "    .dataframe tbody tr th {\n",
              "        vertical-align: top;\n",
              "    }\n",
              "\n",
              "    .dataframe thead th {\n",
              "        text-align: right;\n",
              "    }\n",
              "</style>\n",
              "<table border=\"1\" class=\"dataframe\">\n",
              "  <thead>\n",
              "    <tr style=\"text-align: right;\">\n",
              "      <th></th>\n",
              "      <th>ItemID</th>\n",
              "      <th>Category</th>\n",
              "      <th>ParentCategory</th>\n",
              "    </tr>\n",
              "  </thead>\n",
              "  <tbody>\n",
              "    <tr>\n",
              "      <th>0</th>\n",
              "      <td>1000002</td>\n",
              "      <td>Сладости для диабетиков</td>\n",
              "      <td>Сладости</td>\n",
              "    </tr>\n",
              "    <tr>\n",
              "      <th>1</th>\n",
              "      <td>1000046</td>\n",
              "      <td>Вода</td>\n",
              "      <td>Напитки</td>\n",
              "    </tr>\n",
              "    <tr>\n",
              "      <th>2</th>\n",
              "      <td>1000048</td>\n",
              "      <td>Сладости для диабетиков</td>\n",
              "      <td>Сладости</td>\n",
              "    </tr>\n",
              "    <tr>\n",
              "      <th>3</th>\n",
              "      <td>1000049</td>\n",
              "      <td>Вода</td>\n",
              "      <td>Напитки</td>\n",
              "    </tr>\n",
              "    <tr>\n",
              "      <th>4</th>\n",
              "      <td>1000061</td>\n",
              "      <td>Фрукты</td>\n",
              "      <td>Овощи и фрукты</td>\n",
              "    </tr>\n",
              "  </tbody>\n",
              "</table>\n",
              "</div>\n",
              "      <button class=\"colab-df-convert\" onclick=\"convertToInteractive('df-15adc8e6-4d9d-49fc-b4b8-7e65a09d7c4f')\"\n",
              "              title=\"Convert this dataframe to an interactive table.\"\n",
              "              style=\"display:none;\">\n",
              "        \n",
              "  <svg xmlns=\"http://www.w3.org/2000/svg\" height=\"24px\"viewBox=\"0 0 24 24\"\n",
              "       width=\"24px\">\n",
              "    <path d=\"M0 0h24v24H0V0z\" fill=\"none\"/>\n",
              "    <path d=\"M18.56 5.44l.94 2.06.94-2.06 2.06-.94-2.06-.94-.94-2.06-.94 2.06-2.06.94zm-11 1L8.5 8.5l.94-2.06 2.06-.94-2.06-.94L8.5 2.5l-.94 2.06-2.06.94zm10 10l.94 2.06.94-2.06 2.06-.94-2.06-.94-.94-2.06-.94 2.06-2.06.94z\"/><path d=\"M17.41 7.96l-1.37-1.37c-.4-.4-.92-.59-1.43-.59-.52 0-1.04.2-1.43.59L10.3 9.45l-7.72 7.72c-.78.78-.78 2.05 0 2.83L4 21.41c.39.39.9.59 1.41.59.51 0 1.02-.2 1.41-.59l7.78-7.78 2.81-2.81c.8-.78.8-2.07 0-2.86zM5.41 20L4 18.59l7.72-7.72 1.47 1.35L5.41 20z\"/>\n",
              "  </svg>\n",
              "      </button>\n",
              "      \n",
              "  <style>\n",
              "    .colab-df-container {\n",
              "      display:flex;\n",
              "      flex-wrap:wrap;\n",
              "      gap: 12px;\n",
              "    }\n",
              "\n",
              "    .colab-df-convert {\n",
              "      background-color: #E8F0FE;\n",
              "      border: none;\n",
              "      border-radius: 50%;\n",
              "      cursor: pointer;\n",
              "      display: none;\n",
              "      fill: #1967D2;\n",
              "      height: 32px;\n",
              "      padding: 0 0 0 0;\n",
              "      width: 32px;\n",
              "    }\n",
              "\n",
              "    .colab-df-convert:hover {\n",
              "      background-color: #E2EBFA;\n",
              "      box-shadow: 0px 1px 2px rgba(60, 64, 67, 0.3), 0px 1px 3px 1px rgba(60, 64, 67, 0.15);\n",
              "      fill: #174EA6;\n",
              "    }\n",
              "\n",
              "    [theme=dark] .colab-df-convert {\n",
              "      background-color: #3B4455;\n",
              "      fill: #D2E3FC;\n",
              "    }\n",
              "\n",
              "    [theme=dark] .colab-df-convert:hover {\n",
              "      background-color: #434B5C;\n",
              "      box-shadow: 0px 1px 3px 1px rgba(0, 0, 0, 0.15);\n",
              "      filter: drop-shadow(0px 1px 2px rgba(0, 0, 0, 0.3));\n",
              "      fill: #FFFFFF;\n",
              "    }\n",
              "  </style>\n",
              "\n",
              "      <script>\n",
              "        const buttonEl =\n",
              "          document.querySelector('#df-15adc8e6-4d9d-49fc-b4b8-7e65a09d7c4f button.colab-df-convert');\n",
              "        buttonEl.style.display =\n",
              "          google.colab.kernel.accessAllowed ? 'block' : 'none';\n",
              "\n",
              "        async function convertToInteractive(key) {\n",
              "          const element = document.querySelector('#df-15adc8e6-4d9d-49fc-b4b8-7e65a09d7c4f');\n",
              "          const dataTable =\n",
              "            await google.colab.kernel.invokeFunction('convertToInteractive',\n",
              "                                                     [key], {});\n",
              "          if (!dataTable) return;\n",
              "\n",
              "          const docLinkHtml = 'Like what you see? Visit the ' +\n",
              "            '<a target=\"_blank\" href=https://colab.research.google.com/notebooks/data_table.ipynb>data table notebook</a>'\n",
              "            + ' to learn more about interactive tables.';\n",
              "          element.innerHTML = '';\n",
              "          dataTable['output_type'] = 'display_data';\n",
              "          await google.colab.output.renderOutput(dataTable, element);\n",
              "          const docLink = document.createElement('div');\n",
              "          docLink.innerHTML = docLinkHtml;\n",
              "          element.appendChild(docLink);\n",
              "        }\n",
              "      </script>\n",
              "    </div>\n",
              "  </div>\n",
              "  "
            ]
          },
          "metadata": {},
          "execution_count": 28
        }
      ]
    },
    {
      "cell_type": "code",
      "source": [
        "owi.head(2)"
      ],
      "metadata": {
        "colab": {
          "base_uri": "https://localhost:8080/",
          "height": 112
        },
        "id": "v3vhAke3jk5v",
        "outputId": "4b4b7aa6-d0ae-4190-b3c2-54c312a2c101"
      },
      "execution_count": 29,
      "outputs": [
        {
          "output_type": "execute_result",
          "data": {
            "text/plain": [
              "    OrderID        UserID            OrderTime  \\\n",
              "0  90659865  1.609460e+18  2021-01-01 03:51:42   \n",
              "1  90622054  2.499293e+18  2021-01-01 04:13:13   \n",
              "\n",
              "                                               items   OrderT_v2  \n",
              "0  [{'ItemID': '413736', 'price': 36.72, 'quantit...  2021-01-01  \n",
              "1  [{'ItemID': '961454', 'price': 179.9, 'quantit...  2021-01-01  "
            ],
            "text/html": [
              "\n",
              "  <div id=\"df-c6e8719e-9e69-4ce7-b51a-32726beb9f9f\">\n",
              "    <div class=\"colab-df-container\">\n",
              "      <div>\n",
              "<style scoped>\n",
              "    .dataframe tbody tr th:only-of-type {\n",
              "        vertical-align: middle;\n",
              "    }\n",
              "\n",
              "    .dataframe tbody tr th {\n",
              "        vertical-align: top;\n",
              "    }\n",
              "\n",
              "    .dataframe thead th {\n",
              "        text-align: right;\n",
              "    }\n",
              "</style>\n",
              "<table border=\"1\" class=\"dataframe\">\n",
              "  <thead>\n",
              "    <tr style=\"text-align: right;\">\n",
              "      <th></th>\n",
              "      <th>OrderID</th>\n",
              "      <th>UserID</th>\n",
              "      <th>OrderTime</th>\n",
              "      <th>items</th>\n",
              "      <th>OrderT_v2</th>\n",
              "    </tr>\n",
              "  </thead>\n",
              "  <tbody>\n",
              "    <tr>\n",
              "      <th>0</th>\n",
              "      <td>90659865</td>\n",
              "      <td>1.609460e+18</td>\n",
              "      <td>2021-01-01 03:51:42</td>\n",
              "      <td>[{'ItemID': '413736', 'price': 36.72, 'quantit...</td>\n",
              "      <td>2021-01-01</td>\n",
              "    </tr>\n",
              "    <tr>\n",
              "      <th>1</th>\n",
              "      <td>90622054</td>\n",
              "      <td>2.499293e+18</td>\n",
              "      <td>2021-01-01 04:13:13</td>\n",
              "      <td>[{'ItemID': '961454', 'price': 179.9, 'quantit...</td>\n",
              "      <td>2021-01-01</td>\n",
              "    </tr>\n",
              "  </tbody>\n",
              "</table>\n",
              "</div>\n",
              "      <button class=\"colab-df-convert\" onclick=\"convertToInteractive('df-c6e8719e-9e69-4ce7-b51a-32726beb9f9f')\"\n",
              "              title=\"Convert this dataframe to an interactive table.\"\n",
              "              style=\"display:none;\">\n",
              "        \n",
              "  <svg xmlns=\"http://www.w3.org/2000/svg\" height=\"24px\"viewBox=\"0 0 24 24\"\n",
              "       width=\"24px\">\n",
              "    <path d=\"M0 0h24v24H0V0z\" fill=\"none\"/>\n",
              "    <path d=\"M18.56 5.44l.94 2.06.94-2.06 2.06-.94-2.06-.94-.94-2.06-.94 2.06-2.06.94zm-11 1L8.5 8.5l.94-2.06 2.06-.94-2.06-.94L8.5 2.5l-.94 2.06-2.06.94zm10 10l.94 2.06.94-2.06 2.06-.94-2.06-.94-.94-2.06-.94 2.06-2.06.94z\"/><path d=\"M17.41 7.96l-1.37-1.37c-.4-.4-.92-.59-1.43-.59-.52 0-1.04.2-1.43.59L10.3 9.45l-7.72 7.72c-.78.78-.78 2.05 0 2.83L4 21.41c.39.39.9.59 1.41.59.51 0 1.02-.2 1.41-.59l7.78-7.78 2.81-2.81c.8-.78.8-2.07 0-2.86zM5.41 20L4 18.59l7.72-7.72 1.47 1.35L5.41 20z\"/>\n",
              "  </svg>\n",
              "      </button>\n",
              "      \n",
              "  <style>\n",
              "    .colab-df-container {\n",
              "      display:flex;\n",
              "      flex-wrap:wrap;\n",
              "      gap: 12px;\n",
              "    }\n",
              "\n",
              "    .colab-df-convert {\n",
              "      background-color: #E8F0FE;\n",
              "      border: none;\n",
              "      border-radius: 50%;\n",
              "      cursor: pointer;\n",
              "      display: none;\n",
              "      fill: #1967D2;\n",
              "      height: 32px;\n",
              "      padding: 0 0 0 0;\n",
              "      width: 32px;\n",
              "    }\n",
              "\n",
              "    .colab-df-convert:hover {\n",
              "      background-color: #E2EBFA;\n",
              "      box-shadow: 0px 1px 2px rgba(60, 64, 67, 0.3), 0px 1px 3px 1px rgba(60, 64, 67, 0.15);\n",
              "      fill: #174EA6;\n",
              "    }\n",
              "\n",
              "    [theme=dark] .colab-df-convert {\n",
              "      background-color: #3B4455;\n",
              "      fill: #D2E3FC;\n",
              "    }\n",
              "\n",
              "    [theme=dark] .colab-df-convert:hover {\n",
              "      background-color: #434B5C;\n",
              "      box-shadow: 0px 1px 3px 1px rgba(0, 0, 0, 0.15);\n",
              "      filter: drop-shadow(0px 1px 2px rgba(0, 0, 0, 0.3));\n",
              "      fill: #FFFFFF;\n",
              "    }\n",
              "  </style>\n",
              "\n",
              "      <script>\n",
              "        const buttonEl =\n",
              "          document.querySelector('#df-c6e8719e-9e69-4ce7-b51a-32726beb9f9f button.colab-df-convert');\n",
              "        buttonEl.style.display =\n",
              "          google.colab.kernel.accessAllowed ? 'block' : 'none';\n",
              "\n",
              "        async function convertToInteractive(key) {\n",
              "          const element = document.querySelector('#df-c6e8719e-9e69-4ce7-b51a-32726beb9f9f');\n",
              "          const dataTable =\n",
              "            await google.colab.kernel.invokeFunction('convertToInteractive',\n",
              "                                                     [key], {});\n",
              "          if (!dataTable) return;\n",
              "\n",
              "          const docLinkHtml = 'Like what you see? Visit the ' +\n",
              "            '<a target=\"_blank\" href=https://colab.research.google.com/notebooks/data_table.ipynb>data table notebook</a>'\n",
              "            + ' to learn more about interactive tables.';\n",
              "          element.innerHTML = '';\n",
              "          dataTable['output_type'] = 'display_data';\n",
              "          await google.colab.output.renderOutput(dataTable, element);\n",
              "          const docLink = document.createElement('div');\n",
              "          docLink.innerHTML = docLinkHtml;\n",
              "          element.appendChild(docLink);\n",
              "        }\n",
              "      </script>\n",
              "    </div>\n",
              "  </div>\n",
              "  "
            ]
          },
          "metadata": {},
          "execution_count": 29
        }
      ]
    },
    {
      "cell_type": "code",
      "source": [
        "owi['items'][0]"
      ],
      "metadata": {
        "colab": {
          "base_uri": "https://localhost:8080/"
        },
        "id": "m_z6Sbp-jo3R",
        "outputId": "52cdbfc8-8389-48be-c165-0c80ec245f6c"
      },
      "execution_count": 30,
      "outputs": [
        {
          "output_type": "execute_result",
          "data": {
            "text/plain": [
              "[{'ItemID': '413736', 'price': 36.72, 'quantity': 2},\n",
              " {'ItemID': '523171', 'price': 90.32, 'quantity': 1},\n",
              " {'ItemID': '452831', 'price': 223.11, 'quantity': 1},\n",
              " {'ItemID': '303673', 'price': 59.9, 'quantity': 7},\n",
              " {'ItemID': '318193', 'price': 319.91, 'quantity': 2},\n",
              " {'ItemID': '345578', 'price': 159.92, 'quantity': 1},\n",
              " {'ItemID': '316140', 'price': 135.92, 'quantity': 2},\n",
              " {'ItemID': '444061', 'price': 291.12, 'quantity': 2},\n",
              " {'ItemID': '500982', 'price': 36.72, 'quantity': 3},\n",
              " {'ItemID': '303682', 'price': 63.26, 'quantity': 2},\n",
              " {'ItemID': '308467', 'price': 35.11, 'quantity': 3},\n",
              " {'ItemID': '312673', 'price': 289.9, 'quantity': 1},\n",
              " {'ItemID': '429288', 'price': 179.9, 'quantity': 1},\n",
              " {'ItemID': '306876', 'price': 29.9, 'quantity': 1},\n",
              " {'ItemID': '306843', 'price': 75.12, 'quantity': 1},\n",
              " {'ItemID': '521581', 'price': 79.92, 'quantity': 1},\n",
              " {'ItemID': '303669', 'price': 116.87, 'quantity': 1},\n",
              " {'ItemID': '313776', 'price': 99.9, 'quantity': 1},\n",
              " {'ItemID': '521656', 'price': 119.9, 'quantity': 1},\n",
              " {'ItemID': '315179', 'price': 127.92, 'quantity': 1},\n",
              " {'ItemID': '1003647', 'price': 39.92, 'quantity': 6},\n",
              " {'ItemID': '363466', 'price': 111.12, 'quantity': 1}]"
            ]
          },
          "metadata": {},
          "execution_count": 30
        }
      ]
    },
    {
      "cell_type": "code",
      "source": [
        "owi['items'][0][0]"
      ],
      "metadata": {
        "colab": {
          "base_uri": "https://localhost:8080/"
        },
        "id": "C2tGTI4UjwxG",
        "outputId": "d42a93cd-620a-4415-d528-3e7cd80458b8"
      },
      "execution_count": 31,
      "outputs": [
        {
          "output_type": "execute_result",
          "data": {
            "text/plain": [
              "{'ItemID': '413736', 'price': 36.72, 'quantity': 2}"
            ]
          },
          "metadata": {},
          "execution_count": 31
        }
      ]
    },
    {
      "cell_type": "code",
      "source": [
        "owi['items'][0][0]['price']"
      ],
      "metadata": {
        "colab": {
          "base_uri": "https://localhost:8080/"
        },
        "id": "41nJJE0mj2Ye",
        "outputId": "73c79b6e-7dd5-42dd-d57a-b08c0a47039b"
      },
      "execution_count": 32,
      "outputs": [
        {
          "output_type": "execute_result",
          "data": {
            "text/plain": [
              "36.72"
            ]
          },
          "metadata": {},
          "execution_count": 32
        }
      ]
    },
    {
      "cell_type": "code",
      "source": [
        "owi['items'][0][0]"
      ],
      "metadata": {
        "colab": {
          "base_uri": "https://localhost:8080/"
        },
        "id": "1rRgZ4KGkZ9Q",
        "outputId": "775a58f6-2ccb-4489-d702-dade0c6d9069"
      },
      "execution_count": 33,
      "outputs": [
        {
          "output_type": "execute_result",
          "data": {
            "text/plain": [
              "{'ItemID': '413736', 'price': 36.72, 'quantity': 2}"
            ]
          },
          "metadata": {},
          "execution_count": 33
        }
      ]
    },
    {
      "cell_type": "markdown",
      "source": [
        "У нас в первой таблице находится ItemID в owi['items'] в качестве ключа.\n",
        "Также у нас там есть price (цена) и quantity (количество). Нас интересует GVM, суммарная выручка. Например, по Сладостям."
      ],
      "metadata": {
        "id": "U5F4i3VjkhTd"
      }
    },
    {
      "cell_type": "markdown",
      "source": [
        "Нам нужно из таблицы owi сделать таблицу, где каждому ItemID сделать свою GVM. Потом можно смержить две таблицы, и найти уже по старшей категории GVM."
      ],
      "metadata": {
        "id": "oe7z8tT3k_zv"
      }
    },
    {
      "cell_type": "markdown",
      "source": [
        "Работаем с owi['items']"
      ],
      "metadata": {
        "id": "sbfmH7CUlSAh"
      }
    },
    {
      "cell_type": "markdown",
      "source": [
        "У нас в каждой колонке есть словарь, откуда нужно взять значение по ключу ItemID, перенести в другую таблицу, перемножить price*quantity и перенести в другую колонку. Таким образом мы создадим новый датафрейм, где у нас будут колонки ItemID и GVM_ItemID"
      ],
      "metadata": {
        "id": "i2LamxS0lY70"
      }
    },
    {
      "cell_type": "code",
      "source": [
        "owi['items'][0]"
      ],
      "metadata": {
        "colab": {
          "base_uri": "https://localhost:8080/"
        },
        "id": "qNmmyjfylP97",
        "outputId": "0de53994-94b6-4273-c17b-24ee6073683a"
      },
      "execution_count": 34,
      "outputs": [
        {
          "output_type": "execute_result",
          "data": {
            "text/plain": [
              "[{'ItemID': '413736', 'price': 36.72, 'quantity': 2},\n",
              " {'ItemID': '523171', 'price': 90.32, 'quantity': 1},\n",
              " {'ItemID': '452831', 'price': 223.11, 'quantity': 1},\n",
              " {'ItemID': '303673', 'price': 59.9, 'quantity': 7},\n",
              " {'ItemID': '318193', 'price': 319.91, 'quantity': 2},\n",
              " {'ItemID': '345578', 'price': 159.92, 'quantity': 1},\n",
              " {'ItemID': '316140', 'price': 135.92, 'quantity': 2},\n",
              " {'ItemID': '444061', 'price': 291.12, 'quantity': 2},\n",
              " {'ItemID': '500982', 'price': 36.72, 'quantity': 3},\n",
              " {'ItemID': '303682', 'price': 63.26, 'quantity': 2},\n",
              " {'ItemID': '308467', 'price': 35.11, 'quantity': 3},\n",
              " {'ItemID': '312673', 'price': 289.9, 'quantity': 1},\n",
              " {'ItemID': '429288', 'price': 179.9, 'quantity': 1},\n",
              " {'ItemID': '306876', 'price': 29.9, 'quantity': 1},\n",
              " {'ItemID': '306843', 'price': 75.12, 'quantity': 1},\n",
              " {'ItemID': '521581', 'price': 79.92, 'quantity': 1},\n",
              " {'ItemID': '303669', 'price': 116.87, 'quantity': 1},\n",
              " {'ItemID': '313776', 'price': 99.9, 'quantity': 1},\n",
              " {'ItemID': '521656', 'price': 119.9, 'quantity': 1},\n",
              " {'ItemID': '315179', 'price': 127.92, 'quantity': 1},\n",
              " {'ItemID': '1003647', 'price': 39.92, 'quantity': 6},\n",
              " {'ItemID': '363466', 'price': 111.12, 'quantity': 1}]"
            ]
          },
          "metadata": {},
          "execution_count": 34
        }
      ]
    },
    {
      "cell_type": "code",
      "source": [
        "owi['items'][0][0]['ItemID']"
      ],
      "metadata": {
        "colab": {
          "base_uri": "https://localhost:8080/",
          "height": 36
        },
        "id": "tpWgVOuHkger",
        "outputId": "ef9dec97-c6c1-4f0f-cff6-f885c694c49f"
      },
      "execution_count": 35,
      "outputs": [
        {
          "output_type": "execute_result",
          "data": {
            "text/plain": [
              "'413736'"
            ],
            "application/vnd.google.colaboratory.intrinsic+json": {
              "type": "string"
            }
          },
          "metadata": {},
          "execution_count": 35
        }
      ]
    },
    {
      "cell_type": "markdown",
      "source": [
        "Покажу на примере первого заказа (нулевая строка в датафрейме owi), то, что я хочу вычленить из таблицы. Фактически нас интресует 'ItemID' и соответствующий cost = price * quantity (стоимость = цена * количество)"
      ],
      "metadata": {
        "id": "YE8Ar5nAm101"
      }
    },
    {
      "cell_type": "code",
      "source": [
        "owi['items'][0][1]['ItemID']"
      ],
      "metadata": {
        "colab": {
          "base_uri": "https://localhost:8080/",
          "height": 36
        },
        "id": "dzX-qrpLmjTB",
        "outputId": "f49f74a3-25b7-41d7-df2b-fd67f33a70bb"
      },
      "execution_count": 36,
      "outputs": [
        {
          "output_type": "execute_result",
          "data": {
            "text/plain": [
              "'523171'"
            ],
            "application/vnd.google.colaboratory.intrinsic+json": {
              "type": "string"
            }
          },
          "metadata": {},
          "execution_count": 36
        }
      ]
    },
    {
      "cell_type": "code",
      "source": [
        "owi['items'][0][1]['price'] * owi['items'][0][1]['quantity']"
      ],
      "metadata": {
        "colab": {
          "base_uri": "https://localhost:8080/"
        },
        "id": "rUi8qJBlmncA",
        "outputId": "dd566f80-a3f4-4b3f-b179-63760d99d095"
      },
      "execution_count": 37,
      "outputs": [
        {
          "output_type": "execute_result",
          "data": {
            "text/plain": [
              "90.32"
            ]
          },
          "metadata": {},
          "execution_count": 37
        }
      ]
    },
    {
      "cell_type": "markdown",
      "source": [
        "Теперь надо проитерироваться по series - столбцу owi['items'] и просуммировать по всем уникальным номерам items произведение price * quantity."
      ],
      "metadata": {
        "id": "bor04goWnYot"
      }
    },
    {
      "cell_type": "code",
      "source": [
        "list_ofItemIDitems  = owi['items'].to_list()"
      ],
      "metadata": {
        "id": "bS5NbPDMnwoj"
      },
      "execution_count": 38,
      "outputs": []
    },
    {
      "cell_type": "code",
      "source": [
        "list_ofItemIDitems [0]"
      ],
      "metadata": {
        "colab": {
          "base_uri": "https://localhost:8080/"
        },
        "id": "_eY9umXNoNY4",
        "outputId": "7f1a0dc3-3a75-4a25-ac85-1386586148e5"
      },
      "execution_count": 39,
      "outputs": [
        {
          "output_type": "execute_result",
          "data": {
            "text/plain": [
              "[{'ItemID': '413736', 'price': 36.72, 'quantity': 2},\n",
              " {'ItemID': '523171', 'price': 90.32, 'quantity': 1},\n",
              " {'ItemID': '452831', 'price': 223.11, 'quantity': 1},\n",
              " {'ItemID': '303673', 'price': 59.9, 'quantity': 7},\n",
              " {'ItemID': '318193', 'price': 319.91, 'quantity': 2},\n",
              " {'ItemID': '345578', 'price': 159.92, 'quantity': 1},\n",
              " {'ItemID': '316140', 'price': 135.92, 'quantity': 2},\n",
              " {'ItemID': '444061', 'price': 291.12, 'quantity': 2},\n",
              " {'ItemID': '500982', 'price': 36.72, 'quantity': 3},\n",
              " {'ItemID': '303682', 'price': 63.26, 'quantity': 2},\n",
              " {'ItemID': '308467', 'price': 35.11, 'quantity': 3},\n",
              " {'ItemID': '312673', 'price': 289.9, 'quantity': 1},\n",
              " {'ItemID': '429288', 'price': 179.9, 'quantity': 1},\n",
              " {'ItemID': '306876', 'price': 29.9, 'quantity': 1},\n",
              " {'ItemID': '306843', 'price': 75.12, 'quantity': 1},\n",
              " {'ItemID': '521581', 'price': 79.92, 'quantity': 1},\n",
              " {'ItemID': '303669', 'price': 116.87, 'quantity': 1},\n",
              " {'ItemID': '313776', 'price': 99.9, 'quantity': 1},\n",
              " {'ItemID': '521656', 'price': 119.9, 'quantity': 1},\n",
              " {'ItemID': '315179', 'price': 127.92, 'quantity': 1},\n",
              " {'ItemID': '1003647', 'price': 39.92, 'quantity': 6},\n",
              " {'ItemID': '363466', 'price': 111.12, 'quantity': 1}]"
            ]
          },
          "metadata": {},
          "execution_count": 39
        }
      ]
    },
    {
      "cell_type": "code",
      "source": [
        "len(list_ofItemIDitems)\n",
        "#Естественно равно количеству строк в первоначальном датасете"
      ],
      "metadata": {
        "colab": {
          "base_uri": "https://localhost:8080/"
        },
        "id": "1cj9OpEJoX36",
        "outputId": "f87c005c-803e-4948-9d74-87651bc528f1"
      },
      "execution_count": 40,
      "outputs": [
        {
          "output_type": "execute_result",
          "data": {
            "text/plain": [
              "40375"
            ]
          },
          "metadata": {},
          "execution_count": 40
        }
      ]
    },
    {
      "cell_type": "markdown",
      "source": [
        "Пробежимся по всем json"
      ],
      "metadata": {
        "id": "jFaYqSFUps-Y"
      }
    },
    {
      "cell_type": "code",
      "source": [
        "itemIDs_cost = list()\n",
        "for el1 in list_ofItemIDitems:\n",
        "  for el2 in el1:\n",
        "    v1 = el2['ItemID']\n",
        "    v2 = el2['price'] * el2['quantity']\n",
        "    itemIDs_cost.append([v1, v2])\n",
        "    #ItemID_cost['ItemID'] = el2['ItemID']\n",
        "    #ItemID_cost['cost'] = el2['price'] * el2['quantity']\n",
        "    #print(el2['ItemID'], el2['price'] * el2['quantity'])"
      ],
      "metadata": {
        "id": "Tu7Zn7DVohFn"
      },
      "execution_count": 41,
      "outputs": []
    },
    {
      "cell_type": "code",
      "source": [
        "ItemID_cost = pd.DataFrame(itemIDs_cost)"
      ],
      "metadata": {
        "id": "_-EApaC30fDY"
      },
      "execution_count": 42,
      "outputs": []
    },
    {
      "cell_type": "code",
      "source": [
        "ItemID_cost.columns = ['ItemID','cost']"
      ],
      "metadata": {
        "id": "4tH6VTU-yPo7"
      },
      "execution_count": 43,
      "outputs": []
    },
    {
      "cell_type": "markdown",
      "source": [
        "Мы получили датафрейм, где расписаны все единицы товара (ItemID) по стоимости."
      ],
      "metadata": {
        "id": "hgHNBBaN2XxI"
      }
    },
    {
      "cell_type": "code",
      "source": [
        "ItemID_cost.head()"
      ],
      "metadata": {
        "colab": {
          "base_uri": "https://localhost:8080/",
          "height": 206
        },
        "id": "cFPXNz731x9K",
        "outputId": "d3f1e1bc-e3bf-4d11-9bf1-5abd230f5732"
      },
      "execution_count": 44,
      "outputs": [
        {
          "output_type": "execute_result",
          "data": {
            "text/plain": [
              "   ItemID    cost\n",
              "0  413736   73.44\n",
              "1  523171   90.32\n",
              "2  452831  223.11\n",
              "3  303673  419.30\n",
              "4  318193  639.82"
            ],
            "text/html": [
              "\n",
              "  <div id=\"df-1eccb9df-496f-4bd7-bb73-42beea449176\">\n",
              "    <div class=\"colab-df-container\">\n",
              "      <div>\n",
              "<style scoped>\n",
              "    .dataframe tbody tr th:only-of-type {\n",
              "        vertical-align: middle;\n",
              "    }\n",
              "\n",
              "    .dataframe tbody tr th {\n",
              "        vertical-align: top;\n",
              "    }\n",
              "\n",
              "    .dataframe thead th {\n",
              "        text-align: right;\n",
              "    }\n",
              "</style>\n",
              "<table border=\"1\" class=\"dataframe\">\n",
              "  <thead>\n",
              "    <tr style=\"text-align: right;\">\n",
              "      <th></th>\n",
              "      <th>ItemID</th>\n",
              "      <th>cost</th>\n",
              "    </tr>\n",
              "  </thead>\n",
              "  <tbody>\n",
              "    <tr>\n",
              "      <th>0</th>\n",
              "      <td>413736</td>\n",
              "      <td>73.44</td>\n",
              "    </tr>\n",
              "    <tr>\n",
              "      <th>1</th>\n",
              "      <td>523171</td>\n",
              "      <td>90.32</td>\n",
              "    </tr>\n",
              "    <tr>\n",
              "      <th>2</th>\n",
              "      <td>452831</td>\n",
              "      <td>223.11</td>\n",
              "    </tr>\n",
              "    <tr>\n",
              "      <th>3</th>\n",
              "      <td>303673</td>\n",
              "      <td>419.30</td>\n",
              "    </tr>\n",
              "    <tr>\n",
              "      <th>4</th>\n",
              "      <td>318193</td>\n",
              "      <td>639.82</td>\n",
              "    </tr>\n",
              "  </tbody>\n",
              "</table>\n",
              "</div>\n",
              "      <button class=\"colab-df-convert\" onclick=\"convertToInteractive('df-1eccb9df-496f-4bd7-bb73-42beea449176')\"\n",
              "              title=\"Convert this dataframe to an interactive table.\"\n",
              "              style=\"display:none;\">\n",
              "        \n",
              "  <svg xmlns=\"http://www.w3.org/2000/svg\" height=\"24px\"viewBox=\"0 0 24 24\"\n",
              "       width=\"24px\">\n",
              "    <path d=\"M0 0h24v24H0V0z\" fill=\"none\"/>\n",
              "    <path d=\"M18.56 5.44l.94 2.06.94-2.06 2.06-.94-2.06-.94-.94-2.06-.94 2.06-2.06.94zm-11 1L8.5 8.5l.94-2.06 2.06-.94-2.06-.94L8.5 2.5l-.94 2.06-2.06.94zm10 10l.94 2.06.94-2.06 2.06-.94-2.06-.94-.94-2.06-.94 2.06-2.06.94z\"/><path d=\"M17.41 7.96l-1.37-1.37c-.4-.4-.92-.59-1.43-.59-.52 0-1.04.2-1.43.59L10.3 9.45l-7.72 7.72c-.78.78-.78 2.05 0 2.83L4 21.41c.39.39.9.59 1.41.59.51 0 1.02-.2 1.41-.59l7.78-7.78 2.81-2.81c.8-.78.8-2.07 0-2.86zM5.41 20L4 18.59l7.72-7.72 1.47 1.35L5.41 20z\"/>\n",
              "  </svg>\n",
              "      </button>\n",
              "      \n",
              "  <style>\n",
              "    .colab-df-container {\n",
              "      display:flex;\n",
              "      flex-wrap:wrap;\n",
              "      gap: 12px;\n",
              "    }\n",
              "\n",
              "    .colab-df-convert {\n",
              "      background-color: #E8F0FE;\n",
              "      border: none;\n",
              "      border-radius: 50%;\n",
              "      cursor: pointer;\n",
              "      display: none;\n",
              "      fill: #1967D2;\n",
              "      height: 32px;\n",
              "      padding: 0 0 0 0;\n",
              "      width: 32px;\n",
              "    }\n",
              "\n",
              "    .colab-df-convert:hover {\n",
              "      background-color: #E2EBFA;\n",
              "      box-shadow: 0px 1px 2px rgba(60, 64, 67, 0.3), 0px 1px 3px 1px rgba(60, 64, 67, 0.15);\n",
              "      fill: #174EA6;\n",
              "    }\n",
              "\n",
              "    [theme=dark] .colab-df-convert {\n",
              "      background-color: #3B4455;\n",
              "      fill: #D2E3FC;\n",
              "    }\n",
              "\n",
              "    [theme=dark] .colab-df-convert:hover {\n",
              "      background-color: #434B5C;\n",
              "      box-shadow: 0px 1px 3px 1px rgba(0, 0, 0, 0.15);\n",
              "      filter: drop-shadow(0px 1px 2px rgba(0, 0, 0, 0.3));\n",
              "      fill: #FFFFFF;\n",
              "    }\n",
              "  </style>\n",
              "\n",
              "      <script>\n",
              "        const buttonEl =\n",
              "          document.querySelector('#df-1eccb9df-496f-4bd7-bb73-42beea449176 button.colab-df-convert');\n",
              "        buttonEl.style.display =\n",
              "          google.colab.kernel.accessAllowed ? 'block' : 'none';\n",
              "\n",
              "        async function convertToInteractive(key) {\n",
              "          const element = document.querySelector('#df-1eccb9df-496f-4bd7-bb73-42beea449176');\n",
              "          const dataTable =\n",
              "            await google.colab.kernel.invokeFunction('convertToInteractive',\n",
              "                                                     [key], {});\n",
              "          if (!dataTable) return;\n",
              "\n",
              "          const docLinkHtml = 'Like what you see? Visit the ' +\n",
              "            '<a target=\"_blank\" href=https://colab.research.google.com/notebooks/data_table.ipynb>data table notebook</a>'\n",
              "            + ' to learn more about interactive tables.';\n",
              "          element.innerHTML = '';\n",
              "          dataTable['output_type'] = 'display_data';\n",
              "          await google.colab.output.renderOutput(dataTable, element);\n",
              "          const docLink = document.createElement('div');\n",
              "          docLink.innerHTML = docLinkHtml;\n",
              "          element.appendChild(docLink);\n",
              "        }\n",
              "      </script>\n",
              "    </div>\n",
              "  </div>\n",
              "  "
            ]
          },
          "metadata": {},
          "execution_count": 44
        }
      ]
    },
    {
      "cell_type": "markdown",
      "source": [
        "Сгруппируем по ItemID и просуммируем по cost"
      ],
      "metadata": {
        "id": "-oxU4n0l2pOH"
      }
    },
    {
      "cell_type": "code",
      "source": [
        "ItemID_cost.groupby('ItemID').sum().reset_index()"
      ],
      "metadata": {
        "colab": {
          "base_uri": "https://localhost:8080/",
          "height": 423
        },
        "id": "-7Vmuugz22rJ",
        "outputId": "6fbb8f7a-d121-4c32-eca2-f35950cc5769"
      },
      "execution_count": 45,
      "outputs": [
        {
          "output_type": "execute_result",
          "data": {
            "text/plain": [
              "        ItemID     cost\n",
              "0      1000002   199.30\n",
              "1      1000046  3810.38\n",
              "2      1000048   191.40\n",
              "3      1000049   898.52\n",
              "4      1000061   341.81\n",
              "...        ...      ...\n",
              "35025   999942   294.60\n",
              "35026   999964   159.90\n",
              "35027   999965   665.50\n",
              "35028   999970  3436.81\n",
              "35029   999971  9508.30\n",
              "\n",
              "[35030 rows x 2 columns]"
            ],
            "text/html": [
              "\n",
              "  <div id=\"df-376615c2-e2b9-4afa-a26c-e65509eabf12\">\n",
              "    <div class=\"colab-df-container\">\n",
              "      <div>\n",
              "<style scoped>\n",
              "    .dataframe tbody tr th:only-of-type {\n",
              "        vertical-align: middle;\n",
              "    }\n",
              "\n",
              "    .dataframe tbody tr th {\n",
              "        vertical-align: top;\n",
              "    }\n",
              "\n",
              "    .dataframe thead th {\n",
              "        text-align: right;\n",
              "    }\n",
              "</style>\n",
              "<table border=\"1\" class=\"dataframe\">\n",
              "  <thead>\n",
              "    <tr style=\"text-align: right;\">\n",
              "      <th></th>\n",
              "      <th>ItemID</th>\n",
              "      <th>cost</th>\n",
              "    </tr>\n",
              "  </thead>\n",
              "  <tbody>\n",
              "    <tr>\n",
              "      <th>0</th>\n",
              "      <td>1000002</td>\n",
              "      <td>199.30</td>\n",
              "    </tr>\n",
              "    <tr>\n",
              "      <th>1</th>\n",
              "      <td>1000046</td>\n",
              "      <td>3810.38</td>\n",
              "    </tr>\n",
              "    <tr>\n",
              "      <th>2</th>\n",
              "      <td>1000048</td>\n",
              "      <td>191.40</td>\n",
              "    </tr>\n",
              "    <tr>\n",
              "      <th>3</th>\n",
              "      <td>1000049</td>\n",
              "      <td>898.52</td>\n",
              "    </tr>\n",
              "    <tr>\n",
              "      <th>4</th>\n",
              "      <td>1000061</td>\n",
              "      <td>341.81</td>\n",
              "    </tr>\n",
              "    <tr>\n",
              "      <th>...</th>\n",
              "      <td>...</td>\n",
              "      <td>...</td>\n",
              "    </tr>\n",
              "    <tr>\n",
              "      <th>35025</th>\n",
              "      <td>999942</td>\n",
              "      <td>294.60</td>\n",
              "    </tr>\n",
              "    <tr>\n",
              "      <th>35026</th>\n",
              "      <td>999964</td>\n",
              "      <td>159.90</td>\n",
              "    </tr>\n",
              "    <tr>\n",
              "      <th>35027</th>\n",
              "      <td>999965</td>\n",
              "      <td>665.50</td>\n",
              "    </tr>\n",
              "    <tr>\n",
              "      <th>35028</th>\n",
              "      <td>999970</td>\n",
              "      <td>3436.81</td>\n",
              "    </tr>\n",
              "    <tr>\n",
              "      <th>35029</th>\n",
              "      <td>999971</td>\n",
              "      <td>9508.30</td>\n",
              "    </tr>\n",
              "  </tbody>\n",
              "</table>\n",
              "<p>35030 rows × 2 columns</p>\n",
              "</div>\n",
              "      <button class=\"colab-df-convert\" onclick=\"convertToInteractive('df-376615c2-e2b9-4afa-a26c-e65509eabf12')\"\n",
              "              title=\"Convert this dataframe to an interactive table.\"\n",
              "              style=\"display:none;\">\n",
              "        \n",
              "  <svg xmlns=\"http://www.w3.org/2000/svg\" height=\"24px\"viewBox=\"0 0 24 24\"\n",
              "       width=\"24px\">\n",
              "    <path d=\"M0 0h24v24H0V0z\" fill=\"none\"/>\n",
              "    <path d=\"M18.56 5.44l.94 2.06.94-2.06 2.06-.94-2.06-.94-.94-2.06-.94 2.06-2.06.94zm-11 1L8.5 8.5l.94-2.06 2.06-.94-2.06-.94L8.5 2.5l-.94 2.06-2.06.94zm10 10l.94 2.06.94-2.06 2.06-.94-2.06-.94-.94-2.06-.94 2.06-2.06.94z\"/><path d=\"M17.41 7.96l-1.37-1.37c-.4-.4-.92-.59-1.43-.59-.52 0-1.04.2-1.43.59L10.3 9.45l-7.72 7.72c-.78.78-.78 2.05 0 2.83L4 21.41c.39.39.9.59 1.41.59.51 0 1.02-.2 1.41-.59l7.78-7.78 2.81-2.81c.8-.78.8-2.07 0-2.86zM5.41 20L4 18.59l7.72-7.72 1.47 1.35L5.41 20z\"/>\n",
              "  </svg>\n",
              "      </button>\n",
              "      \n",
              "  <style>\n",
              "    .colab-df-container {\n",
              "      display:flex;\n",
              "      flex-wrap:wrap;\n",
              "      gap: 12px;\n",
              "    }\n",
              "\n",
              "    .colab-df-convert {\n",
              "      background-color: #E8F0FE;\n",
              "      border: none;\n",
              "      border-radius: 50%;\n",
              "      cursor: pointer;\n",
              "      display: none;\n",
              "      fill: #1967D2;\n",
              "      height: 32px;\n",
              "      padding: 0 0 0 0;\n",
              "      width: 32px;\n",
              "    }\n",
              "\n",
              "    .colab-df-convert:hover {\n",
              "      background-color: #E2EBFA;\n",
              "      box-shadow: 0px 1px 2px rgba(60, 64, 67, 0.3), 0px 1px 3px 1px rgba(60, 64, 67, 0.15);\n",
              "      fill: #174EA6;\n",
              "    }\n",
              "\n",
              "    [theme=dark] .colab-df-convert {\n",
              "      background-color: #3B4455;\n",
              "      fill: #D2E3FC;\n",
              "    }\n",
              "\n",
              "    [theme=dark] .colab-df-convert:hover {\n",
              "      background-color: #434B5C;\n",
              "      box-shadow: 0px 1px 3px 1px rgba(0, 0, 0, 0.15);\n",
              "      filter: drop-shadow(0px 1px 2px rgba(0, 0, 0, 0.3));\n",
              "      fill: #FFFFFF;\n",
              "    }\n",
              "  </style>\n",
              "\n",
              "      <script>\n",
              "        const buttonEl =\n",
              "          document.querySelector('#df-376615c2-e2b9-4afa-a26c-e65509eabf12 button.colab-df-convert');\n",
              "        buttonEl.style.display =\n",
              "          google.colab.kernel.accessAllowed ? 'block' : 'none';\n",
              "\n",
              "        async function convertToInteractive(key) {\n",
              "          const element = document.querySelector('#df-376615c2-e2b9-4afa-a26c-e65509eabf12');\n",
              "          const dataTable =\n",
              "            await google.colab.kernel.invokeFunction('convertToInteractive',\n",
              "                                                     [key], {});\n",
              "          if (!dataTable) return;\n",
              "\n",
              "          const docLinkHtml = 'Like what you see? Visit the ' +\n",
              "            '<a target=\"_blank\" href=https://colab.research.google.com/notebooks/data_table.ipynb>data table notebook</a>'\n",
              "            + ' to learn more about interactive tables.';\n",
              "          element.innerHTML = '';\n",
              "          dataTable['output_type'] = 'display_data';\n",
              "          await google.colab.output.renderOutput(dataTable, element);\n",
              "          const docLink = document.createElement('div');\n",
              "          docLink.innerHTML = docLinkHtml;\n",
              "          element.appendChild(docLink);\n",
              "        }\n",
              "      </script>\n",
              "    </div>\n",
              "  </div>\n",
              "  "
            ]
          },
          "metadata": {},
          "execution_count": 45
        }
      ]
    },
    {
      "cell_type": "markdown",
      "source": [
        "Запишем полученный датафрейм в переменную."
      ],
      "metadata": {
        "id": "644rtj0330rb"
      }
    },
    {
      "cell_type": "code",
      "source": [
        "ItemIDcost_grouped = ItemID_cost.groupby('ItemID').sum().reset_index()\n",
        "ItemIDcost_grouped.head()"
      ],
      "metadata": {
        "colab": {
          "base_uri": "https://localhost:8080/",
          "height": 206
        },
        "id": "4BB0bX903p-s",
        "outputId": "8654af06-a596-4646-f28b-8819bf52e58d"
      },
      "execution_count": 46,
      "outputs": [
        {
          "output_type": "execute_result",
          "data": {
            "text/plain": [
              "    ItemID     cost\n",
              "0  1000002   199.30\n",
              "1  1000046  3810.38\n",
              "2  1000048   191.40\n",
              "3  1000049   898.52\n",
              "4  1000061   341.81"
            ],
            "text/html": [
              "\n",
              "  <div id=\"df-f1650899-9e66-41d0-8bf5-d4a0091df873\">\n",
              "    <div class=\"colab-df-container\">\n",
              "      <div>\n",
              "<style scoped>\n",
              "    .dataframe tbody tr th:only-of-type {\n",
              "        vertical-align: middle;\n",
              "    }\n",
              "\n",
              "    .dataframe tbody tr th {\n",
              "        vertical-align: top;\n",
              "    }\n",
              "\n",
              "    .dataframe thead th {\n",
              "        text-align: right;\n",
              "    }\n",
              "</style>\n",
              "<table border=\"1\" class=\"dataframe\">\n",
              "  <thead>\n",
              "    <tr style=\"text-align: right;\">\n",
              "      <th></th>\n",
              "      <th>ItemID</th>\n",
              "      <th>cost</th>\n",
              "    </tr>\n",
              "  </thead>\n",
              "  <tbody>\n",
              "    <tr>\n",
              "      <th>0</th>\n",
              "      <td>1000002</td>\n",
              "      <td>199.30</td>\n",
              "    </tr>\n",
              "    <tr>\n",
              "      <th>1</th>\n",
              "      <td>1000046</td>\n",
              "      <td>3810.38</td>\n",
              "    </tr>\n",
              "    <tr>\n",
              "      <th>2</th>\n",
              "      <td>1000048</td>\n",
              "      <td>191.40</td>\n",
              "    </tr>\n",
              "    <tr>\n",
              "      <th>3</th>\n",
              "      <td>1000049</td>\n",
              "      <td>898.52</td>\n",
              "    </tr>\n",
              "    <tr>\n",
              "      <th>4</th>\n",
              "      <td>1000061</td>\n",
              "      <td>341.81</td>\n",
              "    </tr>\n",
              "  </tbody>\n",
              "</table>\n",
              "</div>\n",
              "      <button class=\"colab-df-convert\" onclick=\"convertToInteractive('df-f1650899-9e66-41d0-8bf5-d4a0091df873')\"\n",
              "              title=\"Convert this dataframe to an interactive table.\"\n",
              "              style=\"display:none;\">\n",
              "        \n",
              "  <svg xmlns=\"http://www.w3.org/2000/svg\" height=\"24px\"viewBox=\"0 0 24 24\"\n",
              "       width=\"24px\">\n",
              "    <path d=\"M0 0h24v24H0V0z\" fill=\"none\"/>\n",
              "    <path d=\"M18.56 5.44l.94 2.06.94-2.06 2.06-.94-2.06-.94-.94-2.06-.94 2.06-2.06.94zm-11 1L8.5 8.5l.94-2.06 2.06-.94-2.06-.94L8.5 2.5l-.94 2.06-2.06.94zm10 10l.94 2.06.94-2.06 2.06-.94-2.06-.94-.94-2.06-.94 2.06-2.06.94z\"/><path d=\"M17.41 7.96l-1.37-1.37c-.4-.4-.92-.59-1.43-.59-.52 0-1.04.2-1.43.59L10.3 9.45l-7.72 7.72c-.78.78-.78 2.05 0 2.83L4 21.41c.39.39.9.59 1.41.59.51 0 1.02-.2 1.41-.59l7.78-7.78 2.81-2.81c.8-.78.8-2.07 0-2.86zM5.41 20L4 18.59l7.72-7.72 1.47 1.35L5.41 20z\"/>\n",
              "  </svg>\n",
              "      </button>\n",
              "      \n",
              "  <style>\n",
              "    .colab-df-container {\n",
              "      display:flex;\n",
              "      flex-wrap:wrap;\n",
              "      gap: 12px;\n",
              "    }\n",
              "\n",
              "    .colab-df-convert {\n",
              "      background-color: #E8F0FE;\n",
              "      border: none;\n",
              "      border-radius: 50%;\n",
              "      cursor: pointer;\n",
              "      display: none;\n",
              "      fill: #1967D2;\n",
              "      height: 32px;\n",
              "      padding: 0 0 0 0;\n",
              "      width: 32px;\n",
              "    }\n",
              "\n",
              "    .colab-df-convert:hover {\n",
              "      background-color: #E2EBFA;\n",
              "      box-shadow: 0px 1px 2px rgba(60, 64, 67, 0.3), 0px 1px 3px 1px rgba(60, 64, 67, 0.15);\n",
              "      fill: #174EA6;\n",
              "    }\n",
              "\n",
              "    [theme=dark] .colab-df-convert {\n",
              "      background-color: #3B4455;\n",
              "      fill: #D2E3FC;\n",
              "    }\n",
              "\n",
              "    [theme=dark] .colab-df-convert:hover {\n",
              "      background-color: #434B5C;\n",
              "      box-shadow: 0px 1px 3px 1px rgba(0, 0, 0, 0.15);\n",
              "      filter: drop-shadow(0px 1px 2px rgba(0, 0, 0, 0.3));\n",
              "      fill: #FFFFFF;\n",
              "    }\n",
              "  </style>\n",
              "\n",
              "      <script>\n",
              "        const buttonEl =\n",
              "          document.querySelector('#df-f1650899-9e66-41d0-8bf5-d4a0091df873 button.colab-df-convert');\n",
              "        buttonEl.style.display =\n",
              "          google.colab.kernel.accessAllowed ? 'block' : 'none';\n",
              "\n",
              "        async function convertToInteractive(key) {\n",
              "          const element = document.querySelector('#df-f1650899-9e66-41d0-8bf5-d4a0091df873');\n",
              "          const dataTable =\n",
              "            await google.colab.kernel.invokeFunction('convertToInteractive',\n",
              "                                                     [key], {});\n",
              "          if (!dataTable) return;\n",
              "\n",
              "          const docLinkHtml = 'Like what you see? Visit the ' +\n",
              "            '<a target=\"_blank\" href=https://colab.research.google.com/notebooks/data_table.ipynb>data table notebook</a>'\n",
              "            + ' to learn more about interactive tables.';\n",
              "          element.innerHTML = '';\n",
              "          dataTable['output_type'] = 'display_data';\n",
              "          await google.colab.output.renderOutput(dataTable, element);\n",
              "          const docLink = document.createElement('div');\n",
              "          docLink.innerHTML = docLinkHtml;\n",
              "          element.appendChild(docLink);\n",
              "        }\n",
              "      </script>\n",
              "    </div>\n",
              "  </div>\n",
              "  "
            ]
          },
          "metadata": {},
          "execution_count": 46
        }
      ]
    },
    {
      "cell_type": "markdown",
      "source": [
        "Ещё у нас есть такой датафрейм"
      ],
      "metadata": {
        "id": "QzEWyc7I4Xsl"
      }
    },
    {
      "cell_type": "code",
      "source": [
        "df.head(2)"
      ],
      "metadata": {
        "colab": {
          "base_uri": "https://localhost:8080/",
          "height": 112
        },
        "id": "SOV1OzYQ2pjP",
        "outputId": "e1d67553-2159-4fbd-9d55-8fe95d873a43"
      },
      "execution_count": 47,
      "outputs": [
        {
          "output_type": "execute_result",
          "data": {
            "text/plain": [
              "    ItemID                 Category ParentCategory\n",
              "0  1000002  Сладости для диабетиков       Сладости\n",
              "1  1000046                     Вода        Напитки"
            ],
            "text/html": [
              "\n",
              "  <div id=\"df-8b012597-525f-4f69-b58f-cac6c3788187\">\n",
              "    <div class=\"colab-df-container\">\n",
              "      <div>\n",
              "<style scoped>\n",
              "    .dataframe tbody tr th:only-of-type {\n",
              "        vertical-align: middle;\n",
              "    }\n",
              "\n",
              "    .dataframe tbody tr th {\n",
              "        vertical-align: top;\n",
              "    }\n",
              "\n",
              "    .dataframe thead th {\n",
              "        text-align: right;\n",
              "    }\n",
              "</style>\n",
              "<table border=\"1\" class=\"dataframe\">\n",
              "  <thead>\n",
              "    <tr style=\"text-align: right;\">\n",
              "      <th></th>\n",
              "      <th>ItemID</th>\n",
              "      <th>Category</th>\n",
              "      <th>ParentCategory</th>\n",
              "    </tr>\n",
              "  </thead>\n",
              "  <tbody>\n",
              "    <tr>\n",
              "      <th>0</th>\n",
              "      <td>1000002</td>\n",
              "      <td>Сладости для диабетиков</td>\n",
              "      <td>Сладости</td>\n",
              "    </tr>\n",
              "    <tr>\n",
              "      <th>1</th>\n",
              "      <td>1000046</td>\n",
              "      <td>Вода</td>\n",
              "      <td>Напитки</td>\n",
              "    </tr>\n",
              "  </tbody>\n",
              "</table>\n",
              "</div>\n",
              "      <button class=\"colab-df-convert\" onclick=\"convertToInteractive('df-8b012597-525f-4f69-b58f-cac6c3788187')\"\n",
              "              title=\"Convert this dataframe to an interactive table.\"\n",
              "              style=\"display:none;\">\n",
              "        \n",
              "  <svg xmlns=\"http://www.w3.org/2000/svg\" height=\"24px\"viewBox=\"0 0 24 24\"\n",
              "       width=\"24px\">\n",
              "    <path d=\"M0 0h24v24H0V0z\" fill=\"none\"/>\n",
              "    <path d=\"M18.56 5.44l.94 2.06.94-2.06 2.06-.94-2.06-.94-.94-2.06-.94 2.06-2.06.94zm-11 1L8.5 8.5l.94-2.06 2.06-.94-2.06-.94L8.5 2.5l-.94 2.06-2.06.94zm10 10l.94 2.06.94-2.06 2.06-.94-2.06-.94-.94-2.06-.94 2.06-2.06.94z\"/><path d=\"M17.41 7.96l-1.37-1.37c-.4-.4-.92-.59-1.43-.59-.52 0-1.04.2-1.43.59L10.3 9.45l-7.72 7.72c-.78.78-.78 2.05 0 2.83L4 21.41c.39.39.9.59 1.41.59.51 0 1.02-.2 1.41-.59l7.78-7.78 2.81-2.81c.8-.78.8-2.07 0-2.86zM5.41 20L4 18.59l7.72-7.72 1.47 1.35L5.41 20z\"/>\n",
              "  </svg>\n",
              "      </button>\n",
              "      \n",
              "  <style>\n",
              "    .colab-df-container {\n",
              "      display:flex;\n",
              "      flex-wrap:wrap;\n",
              "      gap: 12px;\n",
              "    }\n",
              "\n",
              "    .colab-df-convert {\n",
              "      background-color: #E8F0FE;\n",
              "      border: none;\n",
              "      border-radius: 50%;\n",
              "      cursor: pointer;\n",
              "      display: none;\n",
              "      fill: #1967D2;\n",
              "      height: 32px;\n",
              "      padding: 0 0 0 0;\n",
              "      width: 32px;\n",
              "    }\n",
              "\n",
              "    .colab-df-convert:hover {\n",
              "      background-color: #E2EBFA;\n",
              "      box-shadow: 0px 1px 2px rgba(60, 64, 67, 0.3), 0px 1px 3px 1px rgba(60, 64, 67, 0.15);\n",
              "      fill: #174EA6;\n",
              "    }\n",
              "\n",
              "    [theme=dark] .colab-df-convert {\n",
              "      background-color: #3B4455;\n",
              "      fill: #D2E3FC;\n",
              "    }\n",
              "\n",
              "    [theme=dark] .colab-df-convert:hover {\n",
              "      background-color: #434B5C;\n",
              "      box-shadow: 0px 1px 3px 1px rgba(0, 0, 0, 0.15);\n",
              "      filter: drop-shadow(0px 1px 2px rgba(0, 0, 0, 0.3));\n",
              "      fill: #FFFFFF;\n",
              "    }\n",
              "  </style>\n",
              "\n",
              "      <script>\n",
              "        const buttonEl =\n",
              "          document.querySelector('#df-8b012597-525f-4f69-b58f-cac6c3788187 button.colab-df-convert');\n",
              "        buttonEl.style.display =\n",
              "          google.colab.kernel.accessAllowed ? 'block' : 'none';\n",
              "\n",
              "        async function convertToInteractive(key) {\n",
              "          const element = document.querySelector('#df-8b012597-525f-4f69-b58f-cac6c3788187');\n",
              "          const dataTable =\n",
              "            await google.colab.kernel.invokeFunction('convertToInteractive',\n",
              "                                                     [key], {});\n",
              "          if (!dataTable) return;\n",
              "\n",
              "          const docLinkHtml = 'Like what you see? Visit the ' +\n",
              "            '<a target=\"_blank\" href=https://colab.research.google.com/notebooks/data_table.ipynb>data table notebook</a>'\n",
              "            + ' to learn more about interactive tables.';\n",
              "          element.innerHTML = '';\n",
              "          dataTable['output_type'] = 'display_data';\n",
              "          await google.colab.output.renderOutput(dataTable, element);\n",
              "          const docLink = document.createElement('div');\n",
              "          docLink.innerHTML = docLinkHtml;\n",
              "          element.appendChild(docLink);\n",
              "        }\n",
              "      </script>\n",
              "    </div>\n",
              "  </div>\n",
              "  "
            ]
          },
          "metadata": {},
          "execution_count": 47
        }
      ]
    },
    {
      "cell_type": "markdown",
      "source": [
        "Теперь мы **смержим** оба датафрейма по 'ItemID', просуммируем cost по 'ParentCategory'."
      ],
      "metadata": {
        "id": "vHkfV-5Jv5Xr"
      }
    },
    {
      "cell_type": "code",
      "source": [
        "df.info()"
      ],
      "metadata": {
        "colab": {
          "base_uri": "https://localhost:8080/"
        },
        "id": "NhDpjyAs60pC",
        "outputId": "be99c4a5-a364-4e5c-8e65-23ff1bb24583"
      },
      "execution_count": 48,
      "outputs": [
        {
          "output_type": "stream",
          "name": "stdout",
          "text": [
            "<class 'pandas.core.frame.DataFrame'>\n",
            "RangeIndex: 35030 entries, 0 to 35029\n",
            "Data columns (total 3 columns):\n",
            " #   Column          Non-Null Count  Dtype \n",
            "---  ------          --------------  ----- \n",
            " 0   ItemID          35030 non-null  int64 \n",
            " 1   Category        35030 non-null  object\n",
            " 2   ParentCategory  35030 non-null  object\n",
            "dtypes: int64(1), object(2)\n",
            "memory usage: 821.1+ KB\n"
          ]
        }
      ]
    },
    {
      "cell_type": "code",
      "source": [
        "[df.ParentCategory.nunique(), df.ParentCategory.unique()]"
      ],
      "metadata": {
        "colab": {
          "base_uri": "https://localhost:8080/"
        },
        "id": "v_Y2YW4c64vC",
        "outputId": "5344fb2e-df8a-4a5d-ebf0-e4b89a31d5be"
      },
      "execution_count": 49,
      "outputs": [
        {
          "output_type": "execute_result",
          "data": {
            "text/plain": [
              "[17, array(['Сладости', 'Напитки', 'Овощи и фрукты',\n",
              "        'Красота, гигиена, здоровье', 'Для праздника',\n",
              "        'Кухонные принадлежности', 'Бакалея', 'Молочная продукция',\n",
              "        'Мясо, птица, рыба', 'Мучные изделия', 'Зоотовары',\n",
              "        'Для дома и сада', 'Бытовая химия', 'Для детей',\n",
              "        'Системы нагревания', 'Текстиль', 'Для школы'], dtype=object)]"
            ]
          },
          "metadata": {},
          "execution_count": 49
        }
      ]
    },
    {
      "cell_type": "code",
      "source": [
        "df.sort_values('ParentCategory', ascending = True)"
      ],
      "metadata": {
        "colab": {
          "base_uri": "https://localhost:8080/",
          "height": 423
        },
        "id": "kXbAZcx66DFZ",
        "outputId": "534142e2-a896-4ebc-b9ba-058bed870eb9"
      },
      "execution_count": 50,
      "outputs": [
        {
          "output_type": "execute_result",
          "data": {
            "text/plain": [
              "        ItemID                   Category ParentCategory\n",
              "17514   452557      Диабетическая бакалея        Бакалея\n",
              "4651   1051082  Готовые блюда охлажденные        Бакалея\n",
              "26679   740128              Горчица, хрен        Бакалея\n",
              "26670   727606                      Соусы        Бакалея\n",
              "26650   725319     Масло, маргарин, спред        Бакалея\n",
              "...        ...                        ...            ...\n",
              "32975   986355           Постельное белье       Текстиль\n",
              "417    1003136                   Текстиль       Текстиль\n",
              "421    1003184                   Текстиль       Текстиль\n",
              "16874   445317              Носки, гольфы       Текстиль\n",
              "33625   990903            Колготки, чулки       Текстиль\n",
              "\n",
              "[35030 rows x 3 columns]"
            ],
            "text/html": [
              "\n",
              "  <div id=\"df-0a1bb4b7-ad84-4723-80ee-669db6fcd57e\">\n",
              "    <div class=\"colab-df-container\">\n",
              "      <div>\n",
              "<style scoped>\n",
              "    .dataframe tbody tr th:only-of-type {\n",
              "        vertical-align: middle;\n",
              "    }\n",
              "\n",
              "    .dataframe tbody tr th {\n",
              "        vertical-align: top;\n",
              "    }\n",
              "\n",
              "    .dataframe thead th {\n",
              "        text-align: right;\n",
              "    }\n",
              "</style>\n",
              "<table border=\"1\" class=\"dataframe\">\n",
              "  <thead>\n",
              "    <tr style=\"text-align: right;\">\n",
              "      <th></th>\n",
              "      <th>ItemID</th>\n",
              "      <th>Category</th>\n",
              "      <th>ParentCategory</th>\n",
              "    </tr>\n",
              "  </thead>\n",
              "  <tbody>\n",
              "    <tr>\n",
              "      <th>17514</th>\n",
              "      <td>452557</td>\n",
              "      <td>Диабетическая бакалея</td>\n",
              "      <td>Бакалея</td>\n",
              "    </tr>\n",
              "    <tr>\n",
              "      <th>4651</th>\n",
              "      <td>1051082</td>\n",
              "      <td>Готовые блюда охлажденные</td>\n",
              "      <td>Бакалея</td>\n",
              "    </tr>\n",
              "    <tr>\n",
              "      <th>26679</th>\n",
              "      <td>740128</td>\n",
              "      <td>Горчица, хрен</td>\n",
              "      <td>Бакалея</td>\n",
              "    </tr>\n",
              "    <tr>\n",
              "      <th>26670</th>\n",
              "      <td>727606</td>\n",
              "      <td>Соусы</td>\n",
              "      <td>Бакалея</td>\n",
              "    </tr>\n",
              "    <tr>\n",
              "      <th>26650</th>\n",
              "      <td>725319</td>\n",
              "      <td>Масло, маргарин, спред</td>\n",
              "      <td>Бакалея</td>\n",
              "    </tr>\n",
              "    <tr>\n",
              "      <th>...</th>\n",
              "      <td>...</td>\n",
              "      <td>...</td>\n",
              "      <td>...</td>\n",
              "    </tr>\n",
              "    <tr>\n",
              "      <th>32975</th>\n",
              "      <td>986355</td>\n",
              "      <td>Постельное белье</td>\n",
              "      <td>Текстиль</td>\n",
              "    </tr>\n",
              "    <tr>\n",
              "      <th>417</th>\n",
              "      <td>1003136</td>\n",
              "      <td>Текстиль</td>\n",
              "      <td>Текстиль</td>\n",
              "    </tr>\n",
              "    <tr>\n",
              "      <th>421</th>\n",
              "      <td>1003184</td>\n",
              "      <td>Текстиль</td>\n",
              "      <td>Текстиль</td>\n",
              "    </tr>\n",
              "    <tr>\n",
              "      <th>16874</th>\n",
              "      <td>445317</td>\n",
              "      <td>Носки, гольфы</td>\n",
              "      <td>Текстиль</td>\n",
              "    </tr>\n",
              "    <tr>\n",
              "      <th>33625</th>\n",
              "      <td>990903</td>\n",
              "      <td>Колготки, чулки</td>\n",
              "      <td>Текстиль</td>\n",
              "    </tr>\n",
              "  </tbody>\n",
              "</table>\n",
              "<p>35030 rows × 3 columns</p>\n",
              "</div>\n",
              "      <button class=\"colab-df-convert\" onclick=\"convertToInteractive('df-0a1bb4b7-ad84-4723-80ee-669db6fcd57e')\"\n",
              "              title=\"Convert this dataframe to an interactive table.\"\n",
              "              style=\"display:none;\">\n",
              "        \n",
              "  <svg xmlns=\"http://www.w3.org/2000/svg\" height=\"24px\"viewBox=\"0 0 24 24\"\n",
              "       width=\"24px\">\n",
              "    <path d=\"M0 0h24v24H0V0z\" fill=\"none\"/>\n",
              "    <path d=\"M18.56 5.44l.94 2.06.94-2.06 2.06-.94-2.06-.94-.94-2.06-.94 2.06-2.06.94zm-11 1L8.5 8.5l.94-2.06 2.06-.94-2.06-.94L8.5 2.5l-.94 2.06-2.06.94zm10 10l.94 2.06.94-2.06 2.06-.94-2.06-.94-.94-2.06-.94 2.06-2.06.94z\"/><path d=\"M17.41 7.96l-1.37-1.37c-.4-.4-.92-.59-1.43-.59-.52 0-1.04.2-1.43.59L10.3 9.45l-7.72 7.72c-.78.78-.78 2.05 0 2.83L4 21.41c.39.39.9.59 1.41.59.51 0 1.02-.2 1.41-.59l7.78-7.78 2.81-2.81c.8-.78.8-2.07 0-2.86zM5.41 20L4 18.59l7.72-7.72 1.47 1.35L5.41 20z\"/>\n",
              "  </svg>\n",
              "      </button>\n",
              "      \n",
              "  <style>\n",
              "    .colab-df-container {\n",
              "      display:flex;\n",
              "      flex-wrap:wrap;\n",
              "      gap: 12px;\n",
              "    }\n",
              "\n",
              "    .colab-df-convert {\n",
              "      background-color: #E8F0FE;\n",
              "      border: none;\n",
              "      border-radius: 50%;\n",
              "      cursor: pointer;\n",
              "      display: none;\n",
              "      fill: #1967D2;\n",
              "      height: 32px;\n",
              "      padding: 0 0 0 0;\n",
              "      width: 32px;\n",
              "    }\n",
              "\n",
              "    .colab-df-convert:hover {\n",
              "      background-color: #E2EBFA;\n",
              "      box-shadow: 0px 1px 2px rgba(60, 64, 67, 0.3), 0px 1px 3px 1px rgba(60, 64, 67, 0.15);\n",
              "      fill: #174EA6;\n",
              "    }\n",
              "\n",
              "    [theme=dark] .colab-df-convert {\n",
              "      background-color: #3B4455;\n",
              "      fill: #D2E3FC;\n",
              "    }\n",
              "\n",
              "    [theme=dark] .colab-df-convert:hover {\n",
              "      background-color: #434B5C;\n",
              "      box-shadow: 0px 1px 3px 1px rgba(0, 0, 0, 0.15);\n",
              "      filter: drop-shadow(0px 1px 2px rgba(0, 0, 0, 0.3));\n",
              "      fill: #FFFFFF;\n",
              "    }\n",
              "  </style>\n",
              "\n",
              "      <script>\n",
              "        const buttonEl =\n",
              "          document.querySelector('#df-0a1bb4b7-ad84-4723-80ee-669db6fcd57e button.colab-df-convert');\n",
              "        buttonEl.style.display =\n",
              "          google.colab.kernel.accessAllowed ? 'block' : 'none';\n",
              "\n",
              "        async function convertToInteractive(key) {\n",
              "          const element = document.querySelector('#df-0a1bb4b7-ad84-4723-80ee-669db6fcd57e');\n",
              "          const dataTable =\n",
              "            await google.colab.kernel.invokeFunction('convertToInteractive',\n",
              "                                                     [key], {});\n",
              "          if (!dataTable) return;\n",
              "\n",
              "          const docLinkHtml = 'Like what you see? Visit the ' +\n",
              "            '<a target=\"_blank\" href=https://colab.research.google.com/notebooks/data_table.ipynb>data table notebook</a>'\n",
              "            + ' to learn more about interactive tables.';\n",
              "          element.innerHTML = '';\n",
              "          dataTable['output_type'] = 'display_data';\n",
              "          await google.colab.output.renderOutput(dataTable, element);\n",
              "          const docLink = document.createElement('div');\n",
              "          docLink.innerHTML = docLinkHtml;\n",
              "          element.appendChild(docLink);\n",
              "        }\n",
              "      </script>\n",
              "    </div>\n",
              "  </div>\n",
              "  "
            ]
          },
          "metadata": {},
          "execution_count": 50
        }
      ]
    },
    {
      "cell_type": "markdown",
      "source": [
        "Используем метод merge()"
      ],
      "metadata": {
        "id": "YxS-4n2978DJ"
      }
    },
    {
      "cell_type": "markdown",
      "source": [
        "Обычно в методе merge используется левое соединение.\n",
        "Представим ситуацию, что в первом датасете ItemID_cost у нас могут быть разнообразные ItemID, даже те, которые не присутствуют в датасете df. Поэтому, в методе df надо первым (левым) аргументом сделать датасет df"
      ],
      "metadata": {
        "id": "u4Y4K1c38WVu"
      }
    },
    {
      "cell_type": "code",
      "source": [
        "ItemIDcost_grouped.head()"
      ],
      "metadata": {
        "colab": {
          "base_uri": "https://localhost:8080/",
          "height": 206
        },
        "id": "jAptmyRN9zxM",
        "outputId": "f4109cbf-e0d5-490f-acd0-0d47d664d6ec"
      },
      "execution_count": 51,
      "outputs": [
        {
          "output_type": "execute_result",
          "data": {
            "text/plain": [
              "    ItemID     cost\n",
              "0  1000002   199.30\n",
              "1  1000046  3810.38\n",
              "2  1000048   191.40\n",
              "3  1000049   898.52\n",
              "4  1000061   341.81"
            ],
            "text/html": [
              "\n",
              "  <div id=\"df-3bd2f286-be37-4e82-a6fe-bc4494833a1c\">\n",
              "    <div class=\"colab-df-container\">\n",
              "      <div>\n",
              "<style scoped>\n",
              "    .dataframe tbody tr th:only-of-type {\n",
              "        vertical-align: middle;\n",
              "    }\n",
              "\n",
              "    .dataframe tbody tr th {\n",
              "        vertical-align: top;\n",
              "    }\n",
              "\n",
              "    .dataframe thead th {\n",
              "        text-align: right;\n",
              "    }\n",
              "</style>\n",
              "<table border=\"1\" class=\"dataframe\">\n",
              "  <thead>\n",
              "    <tr style=\"text-align: right;\">\n",
              "      <th></th>\n",
              "      <th>ItemID</th>\n",
              "      <th>cost</th>\n",
              "    </tr>\n",
              "  </thead>\n",
              "  <tbody>\n",
              "    <tr>\n",
              "      <th>0</th>\n",
              "      <td>1000002</td>\n",
              "      <td>199.30</td>\n",
              "    </tr>\n",
              "    <tr>\n",
              "      <th>1</th>\n",
              "      <td>1000046</td>\n",
              "      <td>3810.38</td>\n",
              "    </tr>\n",
              "    <tr>\n",
              "      <th>2</th>\n",
              "      <td>1000048</td>\n",
              "      <td>191.40</td>\n",
              "    </tr>\n",
              "    <tr>\n",
              "      <th>3</th>\n",
              "      <td>1000049</td>\n",
              "      <td>898.52</td>\n",
              "    </tr>\n",
              "    <tr>\n",
              "      <th>4</th>\n",
              "      <td>1000061</td>\n",
              "      <td>341.81</td>\n",
              "    </tr>\n",
              "  </tbody>\n",
              "</table>\n",
              "</div>\n",
              "      <button class=\"colab-df-convert\" onclick=\"convertToInteractive('df-3bd2f286-be37-4e82-a6fe-bc4494833a1c')\"\n",
              "              title=\"Convert this dataframe to an interactive table.\"\n",
              "              style=\"display:none;\">\n",
              "        \n",
              "  <svg xmlns=\"http://www.w3.org/2000/svg\" height=\"24px\"viewBox=\"0 0 24 24\"\n",
              "       width=\"24px\">\n",
              "    <path d=\"M0 0h24v24H0V0z\" fill=\"none\"/>\n",
              "    <path d=\"M18.56 5.44l.94 2.06.94-2.06 2.06-.94-2.06-.94-.94-2.06-.94 2.06-2.06.94zm-11 1L8.5 8.5l.94-2.06 2.06-.94-2.06-.94L8.5 2.5l-.94 2.06-2.06.94zm10 10l.94 2.06.94-2.06 2.06-.94-2.06-.94-.94-2.06-.94 2.06-2.06.94z\"/><path d=\"M17.41 7.96l-1.37-1.37c-.4-.4-.92-.59-1.43-.59-.52 0-1.04.2-1.43.59L10.3 9.45l-7.72 7.72c-.78.78-.78 2.05 0 2.83L4 21.41c.39.39.9.59 1.41.59.51 0 1.02-.2 1.41-.59l7.78-7.78 2.81-2.81c.8-.78.8-2.07 0-2.86zM5.41 20L4 18.59l7.72-7.72 1.47 1.35L5.41 20z\"/>\n",
              "  </svg>\n",
              "      </button>\n",
              "      \n",
              "  <style>\n",
              "    .colab-df-container {\n",
              "      display:flex;\n",
              "      flex-wrap:wrap;\n",
              "      gap: 12px;\n",
              "    }\n",
              "\n",
              "    .colab-df-convert {\n",
              "      background-color: #E8F0FE;\n",
              "      border: none;\n",
              "      border-radius: 50%;\n",
              "      cursor: pointer;\n",
              "      display: none;\n",
              "      fill: #1967D2;\n",
              "      height: 32px;\n",
              "      padding: 0 0 0 0;\n",
              "      width: 32px;\n",
              "    }\n",
              "\n",
              "    .colab-df-convert:hover {\n",
              "      background-color: #E2EBFA;\n",
              "      box-shadow: 0px 1px 2px rgba(60, 64, 67, 0.3), 0px 1px 3px 1px rgba(60, 64, 67, 0.15);\n",
              "      fill: #174EA6;\n",
              "    }\n",
              "\n",
              "    [theme=dark] .colab-df-convert {\n",
              "      background-color: #3B4455;\n",
              "      fill: #D2E3FC;\n",
              "    }\n",
              "\n",
              "    [theme=dark] .colab-df-convert:hover {\n",
              "      background-color: #434B5C;\n",
              "      box-shadow: 0px 1px 3px 1px rgba(0, 0, 0, 0.15);\n",
              "      filter: drop-shadow(0px 1px 2px rgba(0, 0, 0, 0.3));\n",
              "      fill: #FFFFFF;\n",
              "    }\n",
              "  </style>\n",
              "\n",
              "      <script>\n",
              "        const buttonEl =\n",
              "          document.querySelector('#df-3bd2f286-be37-4e82-a6fe-bc4494833a1c button.colab-df-convert');\n",
              "        buttonEl.style.display =\n",
              "          google.colab.kernel.accessAllowed ? 'block' : 'none';\n",
              "\n",
              "        async function convertToInteractive(key) {\n",
              "          const element = document.querySelector('#df-3bd2f286-be37-4e82-a6fe-bc4494833a1c');\n",
              "          const dataTable =\n",
              "            await google.colab.kernel.invokeFunction('convertToInteractive',\n",
              "                                                     [key], {});\n",
              "          if (!dataTable) return;\n",
              "\n",
              "          const docLinkHtml = 'Like what you see? Visit the ' +\n",
              "            '<a target=\"_blank\" href=https://colab.research.google.com/notebooks/data_table.ipynb>data table notebook</a>'\n",
              "            + ' to learn more about interactive tables.';\n",
              "          element.innerHTML = '';\n",
              "          dataTable['output_type'] = 'display_data';\n",
              "          await google.colab.output.renderOutput(dataTable, element);\n",
              "          const docLink = document.createElement('div');\n",
              "          docLink.innerHTML = docLinkHtml;\n",
              "          element.appendChild(docLink);\n",
              "        }\n",
              "      </script>\n",
              "    </div>\n",
              "  </div>\n",
              "  "
            ]
          },
          "metadata": {},
          "execution_count": 51
        }
      ]
    },
    {
      "cell_type": "code",
      "source": [
        "df.dtypes"
      ],
      "metadata": {
        "colab": {
          "base_uri": "https://localhost:8080/"
        },
        "id": "v9WUiWaL9bXr",
        "outputId": "058afafb-3b7c-4b77-ec96-6ab5336b313f"
      },
      "execution_count": 52,
      "outputs": [
        {
          "output_type": "execute_result",
          "data": {
            "text/plain": [
              "ItemID             int64\n",
              "Category          object\n",
              "ParentCategory    object\n",
              "dtype: object"
            ]
          },
          "metadata": {},
          "execution_count": 52
        }
      ]
    },
    {
      "cell_type": "code",
      "source": [
        "ItemIDcost_grouped.dtypes"
      ],
      "metadata": {
        "colab": {
          "base_uri": "https://localhost:8080/"
        },
        "id": "vu5FXtaw9gUa",
        "outputId": "a9686b2a-1fb7-4b90-e170-1f122da656a9"
      },
      "execution_count": 53,
      "outputs": [
        {
          "output_type": "execute_result",
          "data": {
            "text/plain": [
              "ItemID     object\n",
              "cost      float64\n",
              "dtype: object"
            ]
          },
          "metadata": {},
          "execution_count": 53
        }
      ]
    },
    {
      "cell_type": "markdown",
      "source": [
        "Приведём ItemID к единому типу в обоих датафреймах, поскольку у нас df дан изначально, значит в ItemIDcost_grouped изменим тип колонки object на int64"
      ],
      "metadata": {
        "id": "F15DAhyD-Cxh"
      }
    },
    {
      "cell_type": "code",
      "source": [
        "ItemIDcost_grouped['ItemID'] = ItemIDcost_grouped['ItemID'].astype('int64')"
      ],
      "metadata": {
        "id": "cCrgINQQ-ew4"
      },
      "execution_count": 54,
      "outputs": []
    },
    {
      "cell_type": "code",
      "source": [
        "ItemIDcost_grouped.dtypes"
      ],
      "metadata": {
        "colab": {
          "base_uri": "https://localhost:8080/"
        },
        "id": "vsCvCKni-o-5",
        "outputId": "9ea977ba-3973-4c0e-a715-099459554343"
      },
      "execution_count": 55,
      "outputs": [
        {
          "output_type": "execute_result",
          "data": {
            "text/plain": [
              "ItemID      int64\n",
              "cost      float64\n",
              "dtype: object"
            ]
          },
          "metadata": {},
          "execution_count": 55
        }
      ]
    },
    {
      "cell_type": "markdown",
      "source": [
        "Теперь можно безболезненно мерджить таблицы по однотипной колонки с одинаковым названием."
      ],
      "metadata": {
        "id": "qbQPm5b9-ue_"
      }
    },
    {
      "cell_type": "code",
      "source": [
        "PC_GVM  = df.merge(ItemIDcost_grouped)\n",
        "PC_GVM"
      ],
      "metadata": {
        "colab": {
          "base_uri": "https://localhost:8080/",
          "height": 423
        },
        "id": "aju-IB2H75kq",
        "outputId": "9e51cc52-c94e-42e0-daf7-fa4a24f8526d"
      },
      "execution_count": 56,
      "outputs": [
        {
          "output_type": "execute_result",
          "data": {
            "text/plain": [
              "        ItemID                      Category              ParentCategory  \\\n",
              "0      1000002       Сладости для диабетиков                    Сладости   \n",
              "1      1000046                          Вода                     Напитки   \n",
              "2      1000048       Сладости для диабетиков                    Сладости   \n",
              "3      1000049                          Вода                     Напитки   \n",
              "4      1000061                        Фрукты              Овощи и фрукты   \n",
              "...        ...                           ...                         ...   \n",
              "35025   999942          Шоколадные батончики                    Сладости   \n",
              "35026   999964              Зелень и  салаты              Овощи и фрукты   \n",
              "35027   999965  Пироги, сдоба, кексы, рулеты              Мучные изделия   \n",
              "35028   999970            Прокладки, тампоны  Красота, гигиена, здоровье   \n",
              "35029   999971    Йогурты, творожки, десерты          Молочная продукция   \n",
              "\n",
              "          cost  \n",
              "0       199.30  \n",
              "1      3810.38  \n",
              "2       191.40  \n",
              "3       898.52  \n",
              "4       341.81  \n",
              "...        ...  \n",
              "35025   294.60  \n",
              "35026   159.90  \n",
              "35027   665.50  \n",
              "35028  3436.81  \n",
              "35029  9508.30  \n",
              "\n",
              "[35030 rows x 4 columns]"
            ],
            "text/html": [
              "\n",
              "  <div id=\"df-484155d6-830d-4ca6-913a-43d1cc50b331\">\n",
              "    <div class=\"colab-df-container\">\n",
              "      <div>\n",
              "<style scoped>\n",
              "    .dataframe tbody tr th:only-of-type {\n",
              "        vertical-align: middle;\n",
              "    }\n",
              "\n",
              "    .dataframe tbody tr th {\n",
              "        vertical-align: top;\n",
              "    }\n",
              "\n",
              "    .dataframe thead th {\n",
              "        text-align: right;\n",
              "    }\n",
              "</style>\n",
              "<table border=\"1\" class=\"dataframe\">\n",
              "  <thead>\n",
              "    <tr style=\"text-align: right;\">\n",
              "      <th></th>\n",
              "      <th>ItemID</th>\n",
              "      <th>Category</th>\n",
              "      <th>ParentCategory</th>\n",
              "      <th>cost</th>\n",
              "    </tr>\n",
              "  </thead>\n",
              "  <tbody>\n",
              "    <tr>\n",
              "      <th>0</th>\n",
              "      <td>1000002</td>\n",
              "      <td>Сладости для диабетиков</td>\n",
              "      <td>Сладости</td>\n",
              "      <td>199.30</td>\n",
              "    </tr>\n",
              "    <tr>\n",
              "      <th>1</th>\n",
              "      <td>1000046</td>\n",
              "      <td>Вода</td>\n",
              "      <td>Напитки</td>\n",
              "      <td>3810.38</td>\n",
              "    </tr>\n",
              "    <tr>\n",
              "      <th>2</th>\n",
              "      <td>1000048</td>\n",
              "      <td>Сладости для диабетиков</td>\n",
              "      <td>Сладости</td>\n",
              "      <td>191.40</td>\n",
              "    </tr>\n",
              "    <tr>\n",
              "      <th>3</th>\n",
              "      <td>1000049</td>\n",
              "      <td>Вода</td>\n",
              "      <td>Напитки</td>\n",
              "      <td>898.52</td>\n",
              "    </tr>\n",
              "    <tr>\n",
              "      <th>4</th>\n",
              "      <td>1000061</td>\n",
              "      <td>Фрукты</td>\n",
              "      <td>Овощи и фрукты</td>\n",
              "      <td>341.81</td>\n",
              "    </tr>\n",
              "    <tr>\n",
              "      <th>...</th>\n",
              "      <td>...</td>\n",
              "      <td>...</td>\n",
              "      <td>...</td>\n",
              "      <td>...</td>\n",
              "    </tr>\n",
              "    <tr>\n",
              "      <th>35025</th>\n",
              "      <td>999942</td>\n",
              "      <td>Шоколадные батончики</td>\n",
              "      <td>Сладости</td>\n",
              "      <td>294.60</td>\n",
              "    </tr>\n",
              "    <tr>\n",
              "      <th>35026</th>\n",
              "      <td>999964</td>\n",
              "      <td>Зелень и  салаты</td>\n",
              "      <td>Овощи и фрукты</td>\n",
              "      <td>159.90</td>\n",
              "    </tr>\n",
              "    <tr>\n",
              "      <th>35027</th>\n",
              "      <td>999965</td>\n",
              "      <td>Пироги, сдоба, кексы, рулеты</td>\n",
              "      <td>Мучные изделия</td>\n",
              "      <td>665.50</td>\n",
              "    </tr>\n",
              "    <tr>\n",
              "      <th>35028</th>\n",
              "      <td>999970</td>\n",
              "      <td>Прокладки, тампоны</td>\n",
              "      <td>Красота, гигиена, здоровье</td>\n",
              "      <td>3436.81</td>\n",
              "    </tr>\n",
              "    <tr>\n",
              "      <th>35029</th>\n",
              "      <td>999971</td>\n",
              "      <td>Йогурты, творожки, десерты</td>\n",
              "      <td>Молочная продукция</td>\n",
              "      <td>9508.30</td>\n",
              "    </tr>\n",
              "  </tbody>\n",
              "</table>\n",
              "<p>35030 rows × 4 columns</p>\n",
              "</div>\n",
              "      <button class=\"colab-df-convert\" onclick=\"convertToInteractive('df-484155d6-830d-4ca6-913a-43d1cc50b331')\"\n",
              "              title=\"Convert this dataframe to an interactive table.\"\n",
              "              style=\"display:none;\">\n",
              "        \n",
              "  <svg xmlns=\"http://www.w3.org/2000/svg\" height=\"24px\"viewBox=\"0 0 24 24\"\n",
              "       width=\"24px\">\n",
              "    <path d=\"M0 0h24v24H0V0z\" fill=\"none\"/>\n",
              "    <path d=\"M18.56 5.44l.94 2.06.94-2.06 2.06-.94-2.06-.94-.94-2.06-.94 2.06-2.06.94zm-11 1L8.5 8.5l.94-2.06 2.06-.94-2.06-.94L8.5 2.5l-.94 2.06-2.06.94zm10 10l.94 2.06.94-2.06 2.06-.94-2.06-.94-.94-2.06-.94 2.06-2.06.94z\"/><path d=\"M17.41 7.96l-1.37-1.37c-.4-.4-.92-.59-1.43-.59-.52 0-1.04.2-1.43.59L10.3 9.45l-7.72 7.72c-.78.78-.78 2.05 0 2.83L4 21.41c.39.39.9.59 1.41.59.51 0 1.02-.2 1.41-.59l7.78-7.78 2.81-2.81c.8-.78.8-2.07 0-2.86zM5.41 20L4 18.59l7.72-7.72 1.47 1.35L5.41 20z\"/>\n",
              "  </svg>\n",
              "      </button>\n",
              "      \n",
              "  <style>\n",
              "    .colab-df-container {\n",
              "      display:flex;\n",
              "      flex-wrap:wrap;\n",
              "      gap: 12px;\n",
              "    }\n",
              "\n",
              "    .colab-df-convert {\n",
              "      background-color: #E8F0FE;\n",
              "      border: none;\n",
              "      border-radius: 50%;\n",
              "      cursor: pointer;\n",
              "      display: none;\n",
              "      fill: #1967D2;\n",
              "      height: 32px;\n",
              "      padding: 0 0 0 0;\n",
              "      width: 32px;\n",
              "    }\n",
              "\n",
              "    .colab-df-convert:hover {\n",
              "      background-color: #E2EBFA;\n",
              "      box-shadow: 0px 1px 2px rgba(60, 64, 67, 0.3), 0px 1px 3px 1px rgba(60, 64, 67, 0.15);\n",
              "      fill: #174EA6;\n",
              "    }\n",
              "\n",
              "    [theme=dark] .colab-df-convert {\n",
              "      background-color: #3B4455;\n",
              "      fill: #D2E3FC;\n",
              "    }\n",
              "\n",
              "    [theme=dark] .colab-df-convert:hover {\n",
              "      background-color: #434B5C;\n",
              "      box-shadow: 0px 1px 3px 1px rgba(0, 0, 0, 0.15);\n",
              "      filter: drop-shadow(0px 1px 2px rgba(0, 0, 0, 0.3));\n",
              "      fill: #FFFFFF;\n",
              "    }\n",
              "  </style>\n",
              "\n",
              "      <script>\n",
              "        const buttonEl =\n",
              "          document.querySelector('#df-484155d6-830d-4ca6-913a-43d1cc50b331 button.colab-df-convert');\n",
              "        buttonEl.style.display =\n",
              "          google.colab.kernel.accessAllowed ? 'block' : 'none';\n",
              "\n",
              "        async function convertToInteractive(key) {\n",
              "          const element = document.querySelector('#df-484155d6-830d-4ca6-913a-43d1cc50b331');\n",
              "          const dataTable =\n",
              "            await google.colab.kernel.invokeFunction('convertToInteractive',\n",
              "                                                     [key], {});\n",
              "          if (!dataTable) return;\n",
              "\n",
              "          const docLinkHtml = 'Like what you see? Visit the ' +\n",
              "            '<a target=\"_blank\" href=https://colab.research.google.com/notebooks/data_table.ipynb>data table notebook</a>'\n",
              "            + ' to learn more about interactive tables.';\n",
              "          element.innerHTML = '';\n",
              "          dataTable['output_type'] = 'display_data';\n",
              "          await google.colab.output.renderOutput(dataTable, element);\n",
              "          const docLink = document.createElement('div');\n",
              "          docLink.innerHTML = docLinkHtml;\n",
              "          element.appendChild(docLink);\n",
              "        }\n",
              "      </script>\n",
              "    </div>\n",
              "  </div>\n",
              "  "
            ]
          },
          "metadata": {},
          "execution_count": 56
        }
      ]
    },
    {
      "cell_type": "code",
      "source": [
        "PC_GVM.dtypes"
      ],
      "metadata": {
        "colab": {
          "base_uri": "https://localhost:8080/"
        },
        "id": "GzZsZ4yOBhL5",
        "outputId": "1318a989-7f7f-492c-f4ba-95d7bc5145d7"
      },
      "execution_count": 57,
      "outputs": [
        {
          "output_type": "execute_result",
          "data": {
            "text/plain": [
              "ItemID              int64\n",
              "Category           object\n",
              "ParentCategory     object\n",
              "cost              float64\n",
              "dtype: object"
            ]
          },
          "metadata": {},
          "execution_count": 57
        }
      ]
    },
    {
      "cell_type": "markdown",
      "source": [
        "Отсортируем по 'ParentCategory' и проссумируем по cost."
      ],
      "metadata": {
        "id": "gecev4kc_HV-"
      }
    },
    {
      "cell_type": "code",
      "source": [
        "PC_GVM = PC_GVM.groupby('ParentCategory', as_index=True)[['ParentCategory','cost']].agg({'cost': 'sum'})"
      ],
      "metadata": {
        "id": "W19xVBHv_GNP"
      },
      "execution_count": 70,
      "outputs": []
    },
    {
      "cell_type": "code",
      "source": [
        "PC_GVM.reset_index().sort_values('cost', ascending = False).head(3)"
      ],
      "metadata": {
        "colab": {
          "base_uri": "https://localhost:8080/",
          "height": 143
        },
        "id": "PWRd6GplE4zc",
        "outputId": "27e13e22-620c-4ab8-f45b-d20005701c4a"
      },
      "execution_count": 73,
      "outputs": [
        {
          "output_type": "execute_result",
          "data": {
            "text/plain": [
              "        ParentCategory         cost\n",
              "11   Мясо, птица, рыба  32268493.46\n",
              "9   Молочная продукция  27702995.43\n",
              "13      Овощи и фрукты  27607486.90"
            ],
            "text/html": [
              "\n",
              "  <div id=\"df-3a654dd7-d504-4418-a30c-7c9304567d10\">\n",
              "    <div class=\"colab-df-container\">\n",
              "      <div>\n",
              "<style scoped>\n",
              "    .dataframe tbody tr th:only-of-type {\n",
              "        vertical-align: middle;\n",
              "    }\n",
              "\n",
              "    .dataframe tbody tr th {\n",
              "        vertical-align: top;\n",
              "    }\n",
              "\n",
              "    .dataframe thead th {\n",
              "        text-align: right;\n",
              "    }\n",
              "</style>\n",
              "<table border=\"1\" class=\"dataframe\">\n",
              "  <thead>\n",
              "    <tr style=\"text-align: right;\">\n",
              "      <th></th>\n",
              "      <th>ParentCategory</th>\n",
              "      <th>cost</th>\n",
              "    </tr>\n",
              "  </thead>\n",
              "  <tbody>\n",
              "    <tr>\n",
              "      <th>11</th>\n",
              "      <td>Мясо, птица, рыба</td>\n",
              "      <td>32268493.46</td>\n",
              "    </tr>\n",
              "    <tr>\n",
              "      <th>9</th>\n",
              "      <td>Молочная продукция</td>\n",
              "      <td>27702995.43</td>\n",
              "    </tr>\n",
              "    <tr>\n",
              "      <th>13</th>\n",
              "      <td>Овощи и фрукты</td>\n",
              "      <td>27607486.90</td>\n",
              "    </tr>\n",
              "  </tbody>\n",
              "</table>\n",
              "</div>\n",
              "      <button class=\"colab-df-convert\" onclick=\"convertToInteractive('df-3a654dd7-d504-4418-a30c-7c9304567d10')\"\n",
              "              title=\"Convert this dataframe to an interactive table.\"\n",
              "              style=\"display:none;\">\n",
              "        \n",
              "  <svg xmlns=\"http://www.w3.org/2000/svg\" height=\"24px\"viewBox=\"0 0 24 24\"\n",
              "       width=\"24px\">\n",
              "    <path d=\"M0 0h24v24H0V0z\" fill=\"none\"/>\n",
              "    <path d=\"M18.56 5.44l.94 2.06.94-2.06 2.06-.94-2.06-.94-.94-2.06-.94 2.06-2.06.94zm-11 1L8.5 8.5l.94-2.06 2.06-.94-2.06-.94L8.5 2.5l-.94 2.06-2.06.94zm10 10l.94 2.06.94-2.06 2.06-.94-2.06-.94-.94-2.06-.94 2.06-2.06.94z\"/><path d=\"M17.41 7.96l-1.37-1.37c-.4-.4-.92-.59-1.43-.59-.52 0-1.04.2-1.43.59L10.3 9.45l-7.72 7.72c-.78.78-.78 2.05 0 2.83L4 21.41c.39.39.9.59 1.41.59.51 0 1.02-.2 1.41-.59l7.78-7.78 2.81-2.81c.8-.78.8-2.07 0-2.86zM5.41 20L4 18.59l7.72-7.72 1.47 1.35L5.41 20z\"/>\n",
              "  </svg>\n",
              "      </button>\n",
              "      \n",
              "  <style>\n",
              "    .colab-df-container {\n",
              "      display:flex;\n",
              "      flex-wrap:wrap;\n",
              "      gap: 12px;\n",
              "    }\n",
              "\n",
              "    .colab-df-convert {\n",
              "      background-color: #E8F0FE;\n",
              "      border: none;\n",
              "      border-radius: 50%;\n",
              "      cursor: pointer;\n",
              "      display: none;\n",
              "      fill: #1967D2;\n",
              "      height: 32px;\n",
              "      padding: 0 0 0 0;\n",
              "      width: 32px;\n",
              "    }\n",
              "\n",
              "    .colab-df-convert:hover {\n",
              "      background-color: #E2EBFA;\n",
              "      box-shadow: 0px 1px 2px rgba(60, 64, 67, 0.3), 0px 1px 3px 1px rgba(60, 64, 67, 0.15);\n",
              "      fill: #174EA6;\n",
              "    }\n",
              "\n",
              "    [theme=dark] .colab-df-convert {\n",
              "      background-color: #3B4455;\n",
              "      fill: #D2E3FC;\n",
              "    }\n",
              "\n",
              "    [theme=dark] .colab-df-convert:hover {\n",
              "      background-color: #434B5C;\n",
              "      box-shadow: 0px 1px 3px 1px rgba(0, 0, 0, 0.15);\n",
              "      filter: drop-shadow(0px 1px 2px rgba(0, 0, 0, 0.3));\n",
              "      fill: #FFFFFF;\n",
              "    }\n",
              "  </style>\n",
              "\n",
              "      <script>\n",
              "        const buttonEl =\n",
              "          document.querySelector('#df-3a654dd7-d504-4418-a30c-7c9304567d10 button.colab-df-convert');\n",
              "        buttonEl.style.display =\n",
              "          google.colab.kernel.accessAllowed ? 'block' : 'none';\n",
              "\n",
              "        async function convertToInteractive(key) {\n",
              "          const element = document.querySelector('#df-3a654dd7-d504-4418-a30c-7c9304567d10');\n",
              "          const dataTable =\n",
              "            await google.colab.kernel.invokeFunction('convertToInteractive',\n",
              "                                                     [key], {});\n",
              "          if (!dataTable) return;\n",
              "\n",
              "          const docLinkHtml = 'Like what you see? Visit the ' +\n",
              "            '<a target=\"_blank\" href=https://colab.research.google.com/notebooks/data_table.ipynb>data table notebook</a>'\n",
              "            + ' to learn more about interactive tables.';\n",
              "          element.innerHTML = '';\n",
              "          dataTable['output_type'] = 'display_data';\n",
              "          await google.colab.output.renderOutput(dataTable, element);\n",
              "          const docLink = document.createElement('div');\n",
              "          docLink.innerHTML = docLinkHtml;\n",
              "          element.appendChild(docLink);\n",
              "        }\n",
              "      </script>\n",
              "    </div>\n",
              "  </div>\n",
              "  "
            ]
          },
          "metadata": {},
          "execution_count": 73
        }
      ]
    },
    {
      "cell_type": "markdown",
      "source": [
        "**Можно это делать и с помощью nlargest()...** для тех, кто не знает как. :)"
      ],
      "metadata": {
        "id": "LRChGQaeFacB"
      }
    },
    {
      "cell_type": "code",
      "source": [
        "top3_PC = PC_GVM.reset_index().sort_values('cost', ascending = False)['ParentCategory'].head(3).tolist()"
      ],
      "metadata": {
        "id": "BcDPtqDrFttZ"
      },
      "execution_count": 76,
      "outputs": []
    },
    {
      "cell_type": "markdown",
      "source": [
        "**Самые продаваемые по GVM родительские категории:**"
      ],
      "metadata": {
        "id": "4FYRecazFsah"
      }
    },
    {
      "cell_type": "code",
      "source": [
        "top3_PC"
      ],
      "metadata": {
        "colab": {
          "base_uri": "https://localhost:8080/"
        },
        "id": "zf0s2cjMFrg5",
        "outputId": "a1da8aa4-5c5d-4f36-b0ed-53071f2684ed"
      },
      "execution_count": 77,
      "outputs": [
        {
          "output_type": "execute_result",
          "data": {
            "text/plain": [
              "['Мясо, птица, рыба', 'Молочная продукция', 'Овощи и фрукты']"
            ]
          },
          "metadata": {},
          "execution_count": 77
        }
      ]
    },
    {
      "cell_type": "markdown",
      "metadata": {
        "cellId": "c309d005-3170-49f9-aaa2-47a572ce9d1a",
        "id": "psQX8OM-v6Sg"
      },
      "source": [
        "\n",
        "**3. Представьте, что мы хотим запустить какую-то акцию для клиентов или предложить какую-то бонусную программу. Какую акцию было бы целесообразно провести и на каких клиентов её ориентировать? Составьте какой-то список клиентов, которым вы бы предложили участие в акции/программе.**"
      ]
    },
    {
      "cell_type": "markdown",
      "source": [
        "Можно найти клиентов, которые совершили максимальное количество покупок. Найти клиентов, которые совершили максимальную по стоимости закупку. Для данных клиентов я бы изучил какие товары они чаще покупают. То есть внутри их покупок выделил те, которые они чаще покупают. И уменьшил бы стоимость товара."
      ],
      "metadata": {
        "id": "cB_upQMVwIrD"
      }
    },
    {
      "cell_type": "markdown",
      "source": [
        "Данная задача делается по аналогии с предыдущей, нужно смотреть только не по 'ItemID', а по 'UserID' смердженную таблицу."
      ],
      "metadata": {
        "id": "CfzVpOiuG3mG"
      }
    },
    {
      "cell_type": "markdown",
      "metadata": {
        "cellId": "c309d005-3170-49f9-aaa2-47a572ce9d1a",
        "id": "Oxadtupwv7WN"
      },
      "source": [
        "**4. Представьте, что для повышения GMV мы хотим внедрить на сайте систему рекомендаций и предлагать пользователю какие-то товары по мере сбора корзины. Что бы вы порекомендовали пользователю X?**"
      ]
    },
    {
      "cell_type": "markdown",
      "source": [
        "Я полагаю, надо смотреть в реальном времени, какой категории товара больше всего закупается пользователь X и по категории товара, внутри более крупной категории выбрал бы более подходящий. Ещё есть такой способ рекомендации, с каким товаром чаще покупают другой товар. Есть такая ситуация. Ещё можно посмотреть в какое время чаще берут какие товары и посоветовать именно этот товар. Защитил в OTUS диплом по рекомендательным системам и сейчас на курсе у Карпова по hard ml совершенствуюсь в ранжировании и матчинге (выводить топчик) и в ценообразовании."
      ],
      "metadata": {
        "id": "B2zcemBRw1N2"
      }
    }
  ],
  "metadata": {
    "kernelspec": {
      "display_name": "Yandex DataSphere Kernel",
      "language": "python",
      "name": "python3"
    },
    "language_info": {
      "codemirror_mode": {
        "name": "ipython",
        "version": 3
      },
      "file_extension": ".py",
      "mimetype": "text/x-python",
      "name": "python",
      "nbconvert_exporter": "python",
      "pygments_lexer": "ipython3",
      "version": "3.7.7"
    },
    "notebookId": "7db1954e-123b-4077-9728-1bc10287fc34",
    "notebookPath": "onlineShopping.ipynb",
    "colab": {
      "name": "onlineShopping.ipynb",
      "provenance": []
    }
  },
  "nbformat": 4,
  "nbformat_minor": 0
}